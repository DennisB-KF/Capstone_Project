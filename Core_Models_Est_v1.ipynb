{
 "cells": [
  {
   "cell_type": "code",
   "execution_count": 1,
   "metadata": {},
   "outputs": [],
   "source": [
    "import pandas as pd\n",
    "import numpy as np\n",
    "import seaborn as sns\n",
    "import matplotlib.pyplot as plt\n",
    "from pandas.plotting import register_matplotlib_converters\n",
    "register_matplotlib_converters()\n",
    "import plotly \n",
    "import chart_studio.plotly.plotly as py\n",
    "import chart_studio\n",
    "import plotly.express as px\n",
    "import plotly.graph_objs as go\n",
    "from matplotlib.pyplot import figure\n",
    "from datetime import datetime\n",
    "import pandas_ta as ta\n",
    "\n",
    "\n",
    "from sklearn.model_selection import cross_val_score\n",
    "from sklearn.feature_selection import VarianceThreshold\n",
    "from sklearn.preprocessing import StandardScaler\n",
    "from nltk.sentiment.vader import SentimentIntensityAnalyzer\n",
    "from nltk.corpus import stopwords\n",
    "from nltk.tokenize import word_tokenize\n",
    "from textblob import TextBlob\n",
    "import re\n",
    "\n",
    "import nltk\n",
    "from nltk.tokenize import RegexpTokenizer\n",
    "from nltk.stem import WordNetLemmatizer\n",
    "from nltk.corpus import stopwords\n",
    "import string\n",
    "\n",
    "\n",
    "from wordcloud import WordCloud\n",
    "\n",
    "from gensim.test.utils import common_texts, get_tmpfile\n",
    "from gensim.models import Word2Vec\n",
    "\n",
    "\n",
    "#import plotly.graph_objects as go"
   ]
  },
  {
   "cell_type": "code",
   "execution_count": 2,
   "metadata": {},
   "outputs": [],
   "source": [
    "# Loading the dataset to a dataframe\n",
    "#sentence_file = \"C:\\Users\\Dennis\\Desktop\\Coding\\Final Project\\Data\\Combined_News_DJIA\"\n",
    "df = pd.read_csv(r'C:\\Users\\Dennis\\Desktop\\Coding\\Final Project\\Data\\Combined_News_DJIA.csv', parse_dates=[1])"
   ]
  },
  {
   "cell_type": "code",
   "execution_count": 3,
   "metadata": {},
   "outputs": [
    {
     "data": {
      "text/html": [
       "<div>\n",
       "<style scoped>\n",
       "    .dataframe tbody tr th:only-of-type {\n",
       "        vertical-align: middle;\n",
       "    }\n",
       "\n",
       "    .dataframe tbody tr th {\n",
       "        vertical-align: top;\n",
       "    }\n",
       "\n",
       "    .dataframe thead th {\n",
       "        text-align: right;\n",
       "    }\n",
       "</style>\n",
       "<table border=\"1\" class=\"dataframe\">\n",
       "  <thead>\n",
       "    <tr style=\"text-align: right;\">\n",
       "      <th></th>\n",
       "      <th>Date</th>\n",
       "      <th>Label</th>\n",
       "      <th>Top1</th>\n",
       "      <th>Top2</th>\n",
       "      <th>Top3</th>\n",
       "      <th>Top4</th>\n",
       "      <th>Top5</th>\n",
       "      <th>Top6</th>\n",
       "      <th>Top7</th>\n",
       "      <th>Top8</th>\n",
       "      <th>...</th>\n",
       "      <th>Top16</th>\n",
       "      <th>Top17</th>\n",
       "      <th>Top18</th>\n",
       "      <th>Top19</th>\n",
       "      <th>Top20</th>\n",
       "      <th>Top21</th>\n",
       "      <th>Top22</th>\n",
       "      <th>Top23</th>\n",
       "      <th>Top24</th>\n",
       "      <th>Top25</th>\n",
       "    </tr>\n",
       "  </thead>\n",
       "  <tbody>\n",
       "    <tr>\n",
       "      <th>0</th>\n",
       "      <td>2008-08-08</td>\n",
       "      <td>0</td>\n",
       "      <td>b\"Georgia 'downs two Russian warplanes' as cou...</td>\n",
       "      <td>b'BREAKING: Musharraf to be impeached.'</td>\n",
       "      <td>b'Russia Today: Columns of troops roll into So...</td>\n",
       "      <td>b'Russian tanks are moving towards the capital...</td>\n",
       "      <td>b\"Afghan children raped with 'impunity,' U.N. ...</td>\n",
       "      <td>b'150 Russian tanks have entered South Ossetia...</td>\n",
       "      <td>b\"Breaking: Georgia invades South Ossetia, Rus...</td>\n",
       "      <td>b\"The 'enemy combatent' trials are nothing but...</td>\n",
       "      <td>...</td>\n",
       "      <td>b'Georgia Invades South Ossetia - if Russia ge...</td>\n",
       "      <td>b'Al-Qaeda Faces Islamist Backlash'</td>\n",
       "      <td>b'Condoleezza Rice: \"The US would not act to p...</td>\n",
       "      <td>b'This is a busy day:  The European Union has ...</td>\n",
       "      <td>b\"Georgia will withdraw 1,000 soldiers from Ir...</td>\n",
       "      <td>b'Why the Pentagon Thinks Attacking Iran is a ...</td>\n",
       "      <td>b'Caucasus in crisis: Georgia invades South Os...</td>\n",
       "      <td>b'Indian shoe manufactory  - And again in a se...</td>\n",
       "      <td>b'Visitors Suffering from Mental Illnesses Ban...</td>\n",
       "      <td>b\"No Help for Mexico's Kidnapping Surge\"</td>\n",
       "    </tr>\n",
       "    <tr>\n",
       "      <th>1</th>\n",
       "      <td>2008-08-11</td>\n",
       "      <td>1</td>\n",
       "      <td>b'Why wont America and Nato help us? If they w...</td>\n",
       "      <td>b'Bush puts foot down on Georgian conflict'</td>\n",
       "      <td>b\"Jewish Georgian minister: Thanks to Israeli ...</td>\n",
       "      <td>b'Georgian army flees in disarray as Russians ...</td>\n",
       "      <td>b\"Olympic opening ceremony fireworks 'faked'\"</td>\n",
       "      <td>b'What were the Mossad with fraudulent New Zea...</td>\n",
       "      <td>b'Russia angered by Israeli military sale to G...</td>\n",
       "      <td>b'An American citizen living in S.Ossetia blam...</td>\n",
       "      <td>...</td>\n",
       "      <td>b'Israel and the US behind the Georgian aggres...</td>\n",
       "      <td>b'\"Do not believe TV, neither Russian nor Geor...</td>\n",
       "      <td>b'Riots are still going on in Montreal (Canada...</td>\n",
       "      <td>b'China to overtake US as largest manufacturer'</td>\n",
       "      <td>b'War in South Ossetia [PICS]'</td>\n",
       "      <td>b'Israeli Physicians Group Condemns State Tort...</td>\n",
       "      <td>b' Russia has just beaten the United States ov...</td>\n",
       "      <td>b'Perhaps *the* question about the Georgia - R...</td>\n",
       "      <td>b'Russia is so much better at war'</td>\n",
       "      <td>b\"So this is what it's come to: trading sex fo...</td>\n",
       "    </tr>\n",
       "  </tbody>\n",
       "</table>\n",
       "<p>2 rows × 27 columns</p>\n",
       "</div>"
      ],
      "text/plain": [
       "         Date Label                                               Top1  \\\n",
       "0  2008-08-08     0  b\"Georgia 'downs two Russian warplanes' as cou...   \n",
       "1  2008-08-11     1  b'Why wont America and Nato help us? If they w...   \n",
       "\n",
       "                                          Top2  \\\n",
       "0      b'BREAKING: Musharraf to be impeached.'   \n",
       "1  b'Bush puts foot down on Georgian conflict'   \n",
       "\n",
       "                                                Top3  \\\n",
       "0  b'Russia Today: Columns of troops roll into So...   \n",
       "1  b\"Jewish Georgian minister: Thanks to Israeli ...   \n",
       "\n",
       "                                                Top4  \\\n",
       "0  b'Russian tanks are moving towards the capital...   \n",
       "1  b'Georgian army flees in disarray as Russians ...   \n",
       "\n",
       "                                                Top5  \\\n",
       "0  b\"Afghan children raped with 'impunity,' U.N. ...   \n",
       "1      b\"Olympic opening ceremony fireworks 'faked'\"   \n",
       "\n",
       "                                                Top6  \\\n",
       "0  b'150 Russian tanks have entered South Ossetia...   \n",
       "1  b'What were the Mossad with fraudulent New Zea...   \n",
       "\n",
       "                                                Top7  \\\n",
       "0  b\"Breaking: Georgia invades South Ossetia, Rus...   \n",
       "1  b'Russia angered by Israeli military sale to G...   \n",
       "\n",
       "                                                Top8  ...  \\\n",
       "0  b\"The 'enemy combatent' trials are nothing but...  ...   \n",
       "1  b'An American citizen living in S.Ossetia blam...  ...   \n",
       "\n",
       "                                               Top16  \\\n",
       "0  b'Georgia Invades South Ossetia - if Russia ge...   \n",
       "1  b'Israel and the US behind the Georgian aggres...   \n",
       "\n",
       "                                               Top17  \\\n",
       "0                b'Al-Qaeda Faces Islamist Backlash'   \n",
       "1  b'\"Do not believe TV, neither Russian nor Geor...   \n",
       "\n",
       "                                               Top18  \\\n",
       "0  b'Condoleezza Rice: \"The US would not act to p...   \n",
       "1  b'Riots are still going on in Montreal (Canada...   \n",
       "\n",
       "                                               Top19  \\\n",
       "0  b'This is a busy day:  The European Union has ...   \n",
       "1    b'China to overtake US as largest manufacturer'   \n",
       "\n",
       "                                               Top20  \\\n",
       "0  b\"Georgia will withdraw 1,000 soldiers from Ir...   \n",
       "1                     b'War in South Ossetia [PICS]'   \n",
       "\n",
       "                                               Top21  \\\n",
       "0  b'Why the Pentagon Thinks Attacking Iran is a ...   \n",
       "1  b'Israeli Physicians Group Condemns State Tort...   \n",
       "\n",
       "                                               Top22  \\\n",
       "0  b'Caucasus in crisis: Georgia invades South Os...   \n",
       "1  b' Russia has just beaten the United States ov...   \n",
       "\n",
       "                                               Top23  \\\n",
       "0  b'Indian shoe manufactory  - And again in a se...   \n",
       "1  b'Perhaps *the* question about the Georgia - R...   \n",
       "\n",
       "                                               Top24  \\\n",
       "0  b'Visitors Suffering from Mental Illnesses Ban...   \n",
       "1                 b'Russia is so much better at war'   \n",
       "\n",
       "                                               Top25  \n",
       "0           b\"No Help for Mexico's Kidnapping Surge\"  \n",
       "1  b\"So this is what it's come to: trading sex fo...  \n",
       "\n",
       "[2 rows x 27 columns]"
      ]
     },
     "execution_count": 3,
     "metadata": {},
     "output_type": "execute_result"
    }
   ],
   "source": [
    "df.head(2)"
   ]
  },
  {
   "cell_type": "markdown",
   "metadata": {},
   "source": [
    "From above we can observe that the data for news is delivered for weekdays only, which corresponds to the only available DJIA price data."
   ]
  },
  {
   "cell_type": "code",
   "execution_count": 4,
   "metadata": {},
   "outputs": [],
   "source": [
    "df1 = pd.read_csv(r\"C:\\Users\\Dennis\\Desktop\\Coding\\Final Project\\Data\\upload_DJIA_table.csv\")"
   ]
  },
  {
   "cell_type": "code",
   "execution_count": 5,
   "metadata": {},
   "outputs": [
    {
     "data": {
      "text/plain": [
       "1    1065\n",
       "0     924\n",
       "Name: Label, dtype: int64"
      ]
     },
     "execution_count": 5,
     "metadata": {},
     "output_type": "execute_result"
    }
   ],
   "source": [
    "df['Label'].value_counts()"
   ]
  },
  {
   "cell_type": "code",
   "execution_count": 6,
   "metadata": {},
   "outputs": [
    {
     "data": {
      "text/plain": [
       "1    0.535445\n",
       "0    0.464555\n",
       "Name: Label, dtype: float64"
      ]
     },
     "execution_count": 6,
     "metadata": {},
     "output_type": "execute_result"
    }
   ],
   "source": [
    "df.Label.value_counts(normalize=True)"
   ]
  },
  {
   "cell_type": "code",
   "execution_count": 7,
   "metadata": {},
   "outputs": [],
   "source": [
    "# Data is balanced and aligned (dates correspond)"
   ]
  },
  {
   "cell_type": "code",
   "execution_count": 8,
   "metadata": {},
   "outputs": [],
   "source": [
    "#df = data[data['Date'] < '2015-01-01']\n",
    "#test = data[data['Date'] > '2014-12-31']\n",
    "#y_train = df.Label.values\n",
    "#y_test = test.Label.values"
   ]
  },
  {
   "cell_type": "code",
   "execution_count": 9,
   "metadata": {},
   "outputs": [
    {
     "name": "stdout",
     "output_type": "stream",
     "text": [
      "<class 'pandas.core.frame.DataFrame'>\n",
      "RangeIndex: 1989 entries, 0 to 1988\n",
      "Data columns (total 27 columns):\n",
      "Date     1989 non-null object\n",
      "Label    1989 non-null object\n",
      "Top1     1989 non-null object\n",
      "Top2     1989 non-null object\n",
      "Top3     1989 non-null object\n",
      "Top4     1989 non-null object\n",
      "Top5     1989 non-null object\n",
      "Top6     1989 non-null object\n",
      "Top7     1989 non-null object\n",
      "Top8     1989 non-null object\n",
      "Top9     1989 non-null object\n",
      "Top10    1989 non-null object\n",
      "Top11    1989 non-null object\n",
      "Top12    1989 non-null object\n",
      "Top13    1989 non-null object\n",
      "Top14    1989 non-null object\n",
      "Top15    1989 non-null object\n",
      "Top16    1989 non-null object\n",
      "Top17    1989 non-null object\n",
      "Top18    1989 non-null object\n",
      "Top19    1989 non-null object\n",
      "Top20    1989 non-null object\n",
      "Top21    1989 non-null object\n",
      "Top22    1989 non-null object\n",
      "Top23    1988 non-null object\n",
      "Top24    1986 non-null object\n",
      "Top25    1986 non-null object\n",
      "dtypes: object(27)\n",
      "memory usage: 419.7+ KB\n"
     ]
    }
   ],
   "source": [
    "df.info()"
   ]
  },
  {
   "cell_type": "code",
   "execution_count": 10,
   "metadata": {},
   "outputs": [],
   "source": [
    "#print('The size of the training set is {} news, the size of the test set is {} news'.format(len(df), len(test)))"
   ]
  },
  {
   "cell_type": "code",
   "execution_count": 11,
   "metadata": {
    "scrolled": true
   },
   "outputs": [
    {
     "data": {
      "text/plain": [
       "True"
      ]
     },
     "execution_count": 11,
     "metadata": {},
     "output_type": "execute_result"
    }
   ],
   "source": [
    "# Check if there are NaNs\n",
    "df.isnull().values.any()"
   ]
  },
  {
   "cell_type": "code",
   "execution_count": 12,
   "metadata": {
    "scrolled": true
   },
   "outputs": [
    {
     "data": {
      "text/html": [
       "<div>\n",
       "<style scoped>\n",
       "    .dataframe tbody tr th:only-of-type {\n",
       "        vertical-align: middle;\n",
       "    }\n",
       "\n",
       "    .dataframe tbody tr th {\n",
       "        vertical-align: top;\n",
       "    }\n",
       "\n",
       "    .dataframe thead th {\n",
       "        text-align: right;\n",
       "    }\n",
       "</style>\n",
       "<table border=\"1\" class=\"dataframe\">\n",
       "  <thead>\n",
       "    <tr style=\"text-align: right;\">\n",
       "      <th></th>\n",
       "      <th>Date</th>\n",
       "      <th>Label</th>\n",
       "      <th>Top1</th>\n",
       "      <th>Top2</th>\n",
       "      <th>Top3</th>\n",
       "      <th>Top4</th>\n",
       "      <th>Top5</th>\n",
       "      <th>Top6</th>\n",
       "      <th>Top7</th>\n",
       "      <th>Top8</th>\n",
       "      <th>...</th>\n",
       "      <th>Top16</th>\n",
       "      <th>Top17</th>\n",
       "      <th>Top18</th>\n",
       "      <th>Top19</th>\n",
       "      <th>Top20</th>\n",
       "      <th>Top21</th>\n",
       "      <th>Top22</th>\n",
       "      <th>Top23</th>\n",
       "      <th>Top24</th>\n",
       "      <th>Top25</th>\n",
       "    </tr>\n",
       "  </thead>\n",
       "  <tbody>\n",
       "    <tr>\n",
       "      <th>277</th>\n",
       "      <td>2009-09-15</td>\n",
       "      <td>1</td>\n",
       "      <td>b'The Church of Scientology won\\'t be dissolve...</td>\n",
       "      <td>b'New virus from rats can kill 80 per cent of ...</td>\n",
       "      <td>b'The gruesome spectacle of dolphins being sla...</td>\n",
       "      <td>b'The End of Innocence in Afghanistan: \\'The G...</td>\n",
       "      <td>b'France approves Internet piracy bill'</td>\n",
       "      <td>b'The Rural Doctors Association says right now...</td>\n",
       "      <td>b'Al Jazeera English - Africa - Shabab to aven...</td>\n",
       "      <td>b\"How Sri Lanka governs through detentions - S...</td>\n",
       "      <td>...</td>\n",
       "      <td>b'In an equine echo of the controversy surroun...</td>\n",
       "      <td>b'UPDATE: 5-New York homes raided in terrorism...</td>\n",
       "      <td>b'Population Growth Impeding Progress on the M...</td>\n",
       "      <td>b'Global Population to Reach 7 Billion by 2011'</td>\n",
       "      <td>b'Government Funded Feminist Porn '</td>\n",
       "      <td>b'Can someone enlighten me re:Holy Land disput...</td>\n",
       "      <td>b'Human Rights Watch official suspended for co...</td>\n",
       "      <td>NaN</td>\n",
       "      <td>NaN</td>\n",
       "      <td>NaN</td>\n",
       "    </tr>\n",
       "    <tr>\n",
       "      <th>348</th>\n",
       "      <td>2009-12-24</td>\n",
       "      <td>1</td>\n",
       "      <td>b'Woman knocks down Pope Benedict at Christmas...</td>\n",
       "      <td>b'Ugandan President Museveni says he will bloc...</td>\n",
       "      <td>b\"Venezuela's Chavez threatens to kick out car...</td>\n",
       "      <td>b'Woman who knocked down pope had pasta in her...</td>\n",
       "      <td>b'450 people from 21 countries, including 30 f...</td>\n",
       "      <td>b'Chvez declares Angel Falls is no more: World...</td>\n",
       "      <td>b'Drug tests catch out 10 police (UK)'</td>\n",
       "      <td>b'Once the worlds fourth-largest lake, the Ara...</td>\n",
       "      <td>...</td>\n",
       "      <td>b'Pig farts spark Australia gas scare - I shit...</td>\n",
       "      <td>b'Bin Laden daughter flees to Saudi embassy in...</td>\n",
       "      <td>b'Traumatic Brain Injuries:  Growing evidence ...</td>\n",
       "      <td>b'The Pakistan Supreme Court has ordered the P...</td>\n",
       "      <td>b\"Here's a video the Taliban released this mor...</td>\n",
       "      <td>b'Fireworks set off aboard airliner'</td>\n",
       "      <td>b'Five VA men may face terrorism charges, Paki...</td>\n",
       "      <td>b\"Ayatollah Montazeri's Legacy:  In death he m...</td>\n",
       "      <td>NaN</td>\n",
       "      <td>NaN</td>\n",
       "    </tr>\n",
       "    <tr>\n",
       "      <th>681</th>\n",
       "      <td>2011-04-21</td>\n",
       "      <td>1</td>\n",
       "      <td>Director of \"Restrepo\" and Photographer Chris ...</td>\n",
       "      <td>Everyone within 20km of Fukushima will be forc...</td>\n",
       "      <td>Bahrain: Activist Zaynab Al-Khawaja's letter t...</td>\n",
       "      <td>More than 80,000 people are claiming incapacit...</td>\n",
       "      <td>Libya: 'mission creep' claims as UK sends in m...</td>\n",
       "      <td>Japan considers banning access to evacuation zone</td>\n",
       "      <td>Chinese oil giant Sinopec has stopped exportin...</td>\n",
       "      <td>6.0-magnitude earthquake strikes off east coas...</td>\n",
       "      <td>...</td>\n",
       "      <td>Russian migration official fired in racism row...</td>\n",
       "      <td>Small amounts of radioactive iodine found in b...</td>\n",
       "      <td>War photographer, Oscar-nominated film directo...</td>\n",
       "      <td>Effeminate boys are being sent to a special ca...</td>\n",
       "      <td>Japan Government Declares 12-Mile Area Around ...</td>\n",
       "      <td>TEPCO admitted Wednesday that nuclear fuel in ...</td>\n",
       "      <td>Fukushima evacuees face arrest if they return ...</td>\n",
       "      <td>Prince Charles wins some kind of a record</td>\n",
       "      <td>NaN</td>\n",
       "      <td>NaN</td>\n",
       "    </tr>\n",
       "  </tbody>\n",
       "</table>\n",
       "<p>3 rows × 27 columns</p>\n",
       "</div>"
      ],
      "text/plain": [
       "           Date Label                                               Top1  \\\n",
       "277  2009-09-15     1  b'The Church of Scientology won\\'t be dissolve...   \n",
       "348  2009-12-24     1  b'Woman knocks down Pope Benedict at Christmas...   \n",
       "681  2011-04-21     1  Director of \"Restrepo\" and Photographer Chris ...   \n",
       "\n",
       "                                                  Top2  \\\n",
       "277  b'New virus from rats can kill 80 per cent of ...   \n",
       "348  b'Ugandan President Museveni says he will bloc...   \n",
       "681  Everyone within 20km of Fukushima will be forc...   \n",
       "\n",
       "                                                  Top3  \\\n",
       "277  b'The gruesome spectacle of dolphins being sla...   \n",
       "348  b\"Venezuela's Chavez threatens to kick out car...   \n",
       "681  Bahrain: Activist Zaynab Al-Khawaja's letter t...   \n",
       "\n",
       "                                                  Top4  \\\n",
       "277  b'The End of Innocence in Afghanistan: \\'The G...   \n",
       "348  b'Woman who knocked down pope had pasta in her...   \n",
       "681  More than 80,000 people are claiming incapacit...   \n",
       "\n",
       "                                                  Top5  \\\n",
       "277            b'France approves Internet piracy bill'   \n",
       "348  b'450 people from 21 countries, including 30 f...   \n",
       "681  Libya: 'mission creep' claims as UK sends in m...   \n",
       "\n",
       "                                                  Top6  \\\n",
       "277  b'The Rural Doctors Association says right now...   \n",
       "348  b'Chvez declares Angel Falls is no more: World...   \n",
       "681  Japan considers banning access to evacuation zone   \n",
       "\n",
       "                                                  Top7  \\\n",
       "277  b'Al Jazeera English - Africa - Shabab to aven...   \n",
       "348             b'Drug tests catch out 10 police (UK)'   \n",
       "681  Chinese oil giant Sinopec has stopped exportin...   \n",
       "\n",
       "                                                  Top8  ...  \\\n",
       "277  b\"How Sri Lanka governs through detentions - S...  ...   \n",
       "348  b'Once the worlds fourth-largest lake, the Ara...  ...   \n",
       "681  6.0-magnitude earthquake strikes off east coas...  ...   \n",
       "\n",
       "                                                 Top16  \\\n",
       "277  b'In an equine echo of the controversy surroun...   \n",
       "348  b'Pig farts spark Australia gas scare - I shit...   \n",
       "681  Russian migration official fired in racism row...   \n",
       "\n",
       "                                                 Top17  \\\n",
       "277  b'UPDATE: 5-New York homes raided in terrorism...   \n",
       "348  b'Bin Laden daughter flees to Saudi embassy in...   \n",
       "681  Small amounts of radioactive iodine found in b...   \n",
       "\n",
       "                                                 Top18  \\\n",
       "277  b'Population Growth Impeding Progress on the M...   \n",
       "348  b'Traumatic Brain Injuries:  Growing evidence ...   \n",
       "681  War photographer, Oscar-nominated film directo...   \n",
       "\n",
       "                                                 Top19  \\\n",
       "277    b'Global Population to Reach 7 Billion by 2011'   \n",
       "348  b'The Pakistan Supreme Court has ordered the P...   \n",
       "681  Effeminate boys are being sent to a special ca...   \n",
       "\n",
       "                                                 Top20  \\\n",
       "277                b'Government Funded Feminist Porn '   \n",
       "348  b\"Here's a video the Taliban released this mor...   \n",
       "681  Japan Government Declares 12-Mile Area Around ...   \n",
       "\n",
       "                                                 Top21  \\\n",
       "277  b'Can someone enlighten me re:Holy Land disput...   \n",
       "348               b'Fireworks set off aboard airliner'   \n",
       "681  TEPCO admitted Wednesday that nuclear fuel in ...   \n",
       "\n",
       "                                                 Top22  \\\n",
       "277  b'Human Rights Watch official suspended for co...   \n",
       "348  b'Five VA men may face terrorism charges, Paki...   \n",
       "681  Fukushima evacuees face arrest if they return ...   \n",
       "\n",
       "                                                 Top23 Top24 Top25  \n",
       "277                                                NaN   NaN   NaN  \n",
       "348  b\"Ayatollah Montazeri's Legacy:  In death he m...   NaN   NaN  \n",
       "681          Prince Charles wins some kind of a record   NaN   NaN  \n",
       "\n",
       "[3 rows x 27 columns]"
      ]
     },
     "execution_count": 12,
     "metadata": {},
     "output_type": "execute_result"
    }
   ],
   "source": [
    "# Take a look at NaNs values\n",
    "df[df.isnull().any(axis=1)]"
   ]
  },
  {
   "cell_type": "code",
   "execution_count": 13,
   "metadata": {},
   "outputs": [],
   "source": [
    "# Replace NaN-Values with whitespace\n",
    "df = df.replace(np.nan, ' ', regex=True)"
   ]
  },
  {
   "cell_type": "code",
   "execution_count": 14,
   "metadata": {},
   "outputs": [
    {
     "data": {
      "text/plain": [
       "False"
      ]
     },
     "execution_count": 14,
     "metadata": {},
     "output_type": "execute_result"
    }
   ],
   "source": [
    "# Check if there are NaNs\n",
    "df.isnull().values.any()"
   ]
  },
  {
   "cell_type": "code",
   "execution_count": 15,
   "metadata": {},
   "outputs": [
    {
     "data": {
      "text/html": [
       "<div>\n",
       "<style scoped>\n",
       "    .dataframe tbody tr th:only-of-type {\n",
       "        vertical-align: middle;\n",
       "    }\n",
       "\n",
       "    .dataframe tbody tr th {\n",
       "        vertical-align: top;\n",
       "    }\n",
       "\n",
       "    .dataframe thead th {\n",
       "        text-align: right;\n",
       "    }\n",
       "</style>\n",
       "<table border=\"1\" class=\"dataframe\">\n",
       "  <thead>\n",
       "    <tr style=\"text-align: right;\">\n",
       "      <th></th>\n",
       "      <th>Date</th>\n",
       "      <th>Label</th>\n",
       "      <th>Top1</th>\n",
       "      <th>Top2</th>\n",
       "      <th>Top3</th>\n",
       "      <th>Top4</th>\n",
       "      <th>Top5</th>\n",
       "      <th>Top6</th>\n",
       "      <th>Top7</th>\n",
       "      <th>Top8</th>\n",
       "      <th>...</th>\n",
       "      <th>Top16</th>\n",
       "      <th>Top17</th>\n",
       "      <th>Top18</th>\n",
       "      <th>Top19</th>\n",
       "      <th>Top20</th>\n",
       "      <th>Top21</th>\n",
       "      <th>Top22</th>\n",
       "      <th>Top23</th>\n",
       "      <th>Top24</th>\n",
       "      <th>Top25</th>\n",
       "    </tr>\n",
       "  </thead>\n",
       "  <tbody>\n",
       "    <tr>\n",
       "      <th>0</th>\n",
       "      <td>2008-08-08</td>\n",
       "      <td>0</td>\n",
       "      <td>b\"Georgia 'downs two Russian warplanes' as cou...</td>\n",
       "      <td>b'BREAKING: Musharraf to be impeached.'</td>\n",
       "      <td>b'Russia Today: Columns of troops roll into So...</td>\n",
       "      <td>b'Russian tanks are moving towards the capital...</td>\n",
       "      <td>b\"Afghan children raped with 'impunity,' U.N. ...</td>\n",
       "      <td>b'150 Russian tanks have entered South Ossetia...</td>\n",
       "      <td>b\"Breaking: Georgia invades South Ossetia, Rus...</td>\n",
       "      <td>b\"The 'enemy combatent' trials are nothing but...</td>\n",
       "      <td>...</td>\n",
       "      <td>b'Georgia Invades South Ossetia - if Russia ge...</td>\n",
       "      <td>b'Al-Qaeda Faces Islamist Backlash'</td>\n",
       "      <td>b'Condoleezza Rice: \"The US would not act to p...</td>\n",
       "      <td>b'This is a busy day:  The European Union has ...</td>\n",
       "      <td>b\"Georgia will withdraw 1,000 soldiers from Ir...</td>\n",
       "      <td>b'Why the Pentagon Thinks Attacking Iran is a ...</td>\n",
       "      <td>b'Caucasus in crisis: Georgia invades South Os...</td>\n",
       "      <td>b'Indian shoe manufactory  - And again in a se...</td>\n",
       "      <td>b'Visitors Suffering from Mental Illnesses Ban...</td>\n",
       "      <td>b\"No Help for Mexico's Kidnapping Surge\"</td>\n",
       "    </tr>\n",
       "  </tbody>\n",
       "</table>\n",
       "<p>1 rows × 27 columns</p>\n",
       "</div>"
      ],
      "text/plain": [
       "         Date Label                                               Top1  \\\n",
       "0  2008-08-08     0  b\"Georgia 'downs two Russian warplanes' as cou...   \n",
       "\n",
       "                                      Top2  \\\n",
       "0  b'BREAKING: Musharraf to be impeached.'   \n",
       "\n",
       "                                                Top3  \\\n",
       "0  b'Russia Today: Columns of troops roll into So...   \n",
       "\n",
       "                                                Top4  \\\n",
       "0  b'Russian tanks are moving towards the capital...   \n",
       "\n",
       "                                                Top5  \\\n",
       "0  b\"Afghan children raped with 'impunity,' U.N. ...   \n",
       "\n",
       "                                                Top6  \\\n",
       "0  b'150 Russian tanks have entered South Ossetia...   \n",
       "\n",
       "                                                Top7  \\\n",
       "0  b\"Breaking: Georgia invades South Ossetia, Rus...   \n",
       "\n",
       "                                                Top8  ...  \\\n",
       "0  b\"The 'enemy combatent' trials are nothing but...  ...   \n",
       "\n",
       "                                               Top16  \\\n",
       "0  b'Georgia Invades South Ossetia - if Russia ge...   \n",
       "\n",
       "                                 Top17  \\\n",
       "0  b'Al-Qaeda Faces Islamist Backlash'   \n",
       "\n",
       "                                               Top18  \\\n",
       "0  b'Condoleezza Rice: \"The US would not act to p...   \n",
       "\n",
       "                                               Top19  \\\n",
       "0  b'This is a busy day:  The European Union has ...   \n",
       "\n",
       "                                               Top20  \\\n",
       "0  b\"Georgia will withdraw 1,000 soldiers from Ir...   \n",
       "\n",
       "                                               Top21  \\\n",
       "0  b'Why the Pentagon Thinks Attacking Iran is a ...   \n",
       "\n",
       "                                               Top22  \\\n",
       "0  b'Caucasus in crisis: Georgia invades South Os...   \n",
       "\n",
       "                                               Top23  \\\n",
       "0  b'Indian shoe manufactory  - And again in a se...   \n",
       "\n",
       "                                               Top24  \\\n",
       "0  b'Visitors Suffering from Mental Illnesses Ban...   \n",
       "\n",
       "                                      Top25  \n",
       "0  b\"No Help for Mexico's Kidnapping Surge\"  \n",
       "\n",
       "[1 rows x 27 columns]"
      ]
     },
     "execution_count": 15,
     "metadata": {},
     "output_type": "execute_result"
    }
   ],
   "source": [
    "df.head(1)"
   ]
  },
  {
   "cell_type": "code",
   "execution_count": 16,
   "metadata": {},
   "outputs": [],
   "source": [
    "# Dra\n",
    "df['Date'] = pd.to_datetime(df['Date'])\n",
    "df1['Date'] = pd.to_datetime(df1['Date'])"
   ]
  },
  {
   "cell_type": "code",
   "execution_count": 17,
   "metadata": {},
   "outputs": [],
   "source": [
    "df['Label'] = pd.to_numeric(df['Label'])"
   ]
  },
  {
   "cell_type": "code",
   "execution_count": 18,
   "metadata": {},
   "outputs": [],
   "source": [
    "df1 = df1.rename(columns={\"Adj Close\": \"AdjClose\"})"
   ]
  },
  {
   "cell_type": "code",
   "execution_count": 19,
   "metadata": {},
   "outputs": [],
   "source": [
    "df1 = df1.sort_values(by=['Date'])"
   ]
  },
  {
   "cell_type": "code",
   "execution_count": 20,
   "metadata": {},
   "outputs": [],
   "source": [
    "df = pd.merge(df, df1)"
   ]
  },
  {
   "cell_type": "code",
   "execution_count": 21,
   "metadata": {},
   "outputs": [],
   "source": [
    "df['pct'] = (df['Close'] - df['Open']) / df['Open'] * 100"
   ]
  },
  {
   "cell_type": "code",
   "execution_count": 22,
   "metadata": {},
   "outputs": [],
   "source": [
    "df['Delta']=df['AdjClose']-df['Open']"
   ]
  },
  {
   "cell_type": "code",
   "execution_count": 23,
   "metadata": {},
   "outputs": [],
   "source": [
    "# Compute the logarithmic returns using the Closing price \n",
    "df['Log_Ret'] = np.log(df['Close'] / df['Close'].shift(1))\n",
    "\n",
    "# The rolling function uses a window of 252 trading days. \n",
    "# Each of the days in the selected lookback period is assigned an equal weight. \n",
    "# The user can choose a longer or a shorter period as per his need.\n",
    "\n",
    "# Compute Volatility using the pandas rolling standard deviation function\n",
    "df['Volatility'] = df['Log_Ret'].rolling(window=252).std() * np.sqrt(252)"
   ]
  },
  {
   "cell_type": "markdown",
   "metadata": {},
   "source": [
    "### Price Volatility (High and  Low difference)"
   ]
  },
  {
   "cell_type": "code",
   "execution_count": 24,
   "metadata": {},
   "outputs": [],
   "source": [
    "df['Delta_Vol'] = df['High'] - df['Low']"
   ]
  },
  {
   "cell_type": "code",
   "execution_count": 25,
   "metadata": {},
   "outputs": [
    {
     "data": {
      "text/plain": [
       "141.06933600000048"
      ]
     },
     "execution_count": 25,
     "metadata": {},
     "output_type": "execute_result"
    }
   ],
   "source": [
    "df['Delta_Vol'].median()"
   ]
  },
  {
   "cell_type": "markdown",
   "metadata": {},
   "source": [
    "The historical median fo Delta Volatility over the previous 20 years (1896-05-27 to 2020-04-24) was 94.3; and mean 121.3."
   ]
  },
  {
   "cell_type": "code",
   "execution_count": 26,
   "metadata": {},
   "outputs": [],
   "source": [
    "def to_label (row):\n",
    "    if row['Delta_Vol'] < 121.3:\n",
    "        return 0\n",
    "    if row['Delta_Vol'] > 121.3:\n",
    "        return 1"
   ]
  },
  {
   "cell_type": "code",
   "execution_count": 27,
   "metadata": {},
   "outputs": [],
   "source": [
    "df['Vol_Label'] = df.apply (lambda row: to_label(row), axis=1)"
   ]
  },
  {
   "cell_type": "code",
   "execution_count": 28,
   "metadata": {},
   "outputs": [],
   "source": [
    "count_zero= df.loc[df['Vol_Label'] == 0]\n",
    "number_of_zeros= len(count_zero)\n",
    "\n",
    "count_one = df.loc[df['Vol_Label'] == 1]\n",
    "number_of_ones = len(count_one)\n",
    "\n",
    "#print(' Total amount of values/rows:' , count,\"\\n\",'Total number of days DJIA Delta Volatility was above its historical average: ', \n",
    " #     number_of_ones, \"\\n\", \"Total number of days DJIA Delta Volatility was below its historical average:\", number_of_zeros)"
   ]
  },
  {
   "cell_type": "code",
   "execution_count": 29,
   "metadata": {
    "scrolled": true
   },
   "outputs": [
    {
     "data": {
      "text/html": [
       "<div>\n",
       "<style scoped>\n",
       "    .dataframe tbody tr th:only-of-type {\n",
       "        vertical-align: middle;\n",
       "    }\n",
       "\n",
       "    .dataframe tbody tr th {\n",
       "        vertical-align: top;\n",
       "    }\n",
       "\n",
       "    .dataframe thead th {\n",
       "        text-align: right;\n",
       "    }\n",
       "</style>\n",
       "<table border=\"1\" class=\"dataframe\">\n",
       "  <thead>\n",
       "    <tr style=\"text-align: right;\">\n",
       "      <th></th>\n",
       "      <th>Date</th>\n",
       "      <th>Label</th>\n",
       "      <th>Top1</th>\n",
       "      <th>Top2</th>\n",
       "      <th>Top3</th>\n",
       "      <th>Top4</th>\n",
       "      <th>Top5</th>\n",
       "      <th>Top6</th>\n",
       "      <th>Top7</th>\n",
       "      <th>Top8</th>\n",
       "      <th>...</th>\n",
       "      <th>Low</th>\n",
       "      <th>Close</th>\n",
       "      <th>Volume</th>\n",
       "      <th>AdjClose</th>\n",
       "      <th>pct</th>\n",
       "      <th>Delta</th>\n",
       "      <th>Log_Ret</th>\n",
       "      <th>Volatility</th>\n",
       "      <th>Delta_Vol</th>\n",
       "      <th>Vol_Label</th>\n",
       "    </tr>\n",
       "  </thead>\n",
       "  <tbody>\n",
       "    <tr>\n",
       "      <th>1257</th>\n",
       "      <td>2013-08-07</td>\n",
       "      <td>0</td>\n",
       "      <td>Stephen Fry writes an open letter to Cameron a...</td>\n",
       "      <td>\"Some girls have been married 60 times by the ...</td>\n",
       "      <td>41yo man walks free after admitting having sex...</td>\n",
       "      <td>Wikipedia Boosts Security after XKeyscore Reve...</td>\n",
       "      <td>McDonald's burgers \"unfit for human consumption\"</td>\n",
       "      <td>The Taliban ambushed a convoy of a female Afgh...</td>\n",
       "      <td>The Magical World Where McDonald's Pays $15 an...</td>\n",
       "      <td>Python That Killed Boys Was House Pet: \"The py...</td>\n",
       "      <td>...</td>\n",
       "      <td>15421.750000</td>\n",
       "      <td>15470.669922</td>\n",
       "      <td>88430000</td>\n",
       "      <td>15470.669922</td>\n",
       "      <td>-0.293500</td>\n",
       "      <td>-45.540039</td>\n",
       "      <td>-0.003102</td>\n",
       "      <td>0.105929</td>\n",
       "      <td>94.459961</td>\n",
       "      <td>0</td>\n",
       "    </tr>\n",
       "    <tr>\n",
       "      <th>970</th>\n",
       "      <td>2012-06-14</td>\n",
       "      <td>1</td>\n",
       "      <td>Pure ecstacy (MDMA) can be safe for adults; sh...</td>\n",
       "      <td>Canadian researchers thwart Ebola virus - The ...</td>\n",
       "      <td>Germany bans ultraconservative Islamic organiz...</td>\n",
       "      <td>Over 50 Zetas Drug Cartel Members, Including 2...</td>\n",
       "      <td>Italian prosecutors suspect Vatican bank is la...</td>\n",
       "      <td>Child shelter home scandal rocks India: '5-yr-...</td>\n",
       "      <td>Cleric declares jihad against polio campaign i...</td>\n",
       "      <td>Gaza water too contaminated to drink</td>\n",
       "      <td>...</td>\n",
       "      <td>12497.660156</td>\n",
       "      <td>12651.910156</td>\n",
       "      <td>128640000</td>\n",
       "      <td>12651.910156</td>\n",
       "      <td>1.232372</td>\n",
       "      <td>154.020508</td>\n",
       "      <td>0.012369</td>\n",
       "      <td>0.210473</td>\n",
       "      <td>201.019532</td>\n",
       "      <td>1</td>\n",
       "    </tr>\n",
       "    <tr>\n",
       "      <th>324</th>\n",
       "      <td>2009-11-19</td>\n",
       "      <td>0</td>\n",
       "      <td>b'FIFA and Germany helped finance a soccer sta...</td>\n",
       "      <td>b'Depressed woman loses benefits over Facebook...</td>\n",
       "      <td>b'Illegal Israeli settlements are diverting wa...</td>\n",
       "      <td>b'New poll: 53% of Israelis think ethnic clean...</td>\n",
       "      <td>b'British TV documentary on Israel lobby is ac...</td>\n",
       "      <td>b'Regarding Afghanistan: \"In 1981, we gave the...</td>\n",
       "      <td>b\"How the British lied to put a killer in powe...</td>\n",
       "      <td>b'50 oil tankers loitering off British coast a...</td>\n",
       "      <td>...</td>\n",
       "      <td>10256.110352</td>\n",
       "      <td>10332.440430</td>\n",
       "      <td>196250000</td>\n",
       "      <td>10332.440430</td>\n",
       "      <td>-0.891000</td>\n",
       "      <td>-92.889648</td>\n",
       "      <td>-0.009044</td>\n",
       "      <td>0.288466</td>\n",
       "      <td>169.219726</td>\n",
       "      <td>1</td>\n",
       "    </tr>\n",
       "    <tr>\n",
       "      <th>1564</th>\n",
       "      <td>2014-10-24</td>\n",
       "      <td>1</td>\n",
       "      <td>U.S. threatens sanctions on buyers of ISIS oil</td>\n",
       "      <td>Canada attack 'not linked to IS'</td>\n",
       "      <td>Poll: 74 percent of Denmark's citizens want to...</td>\n",
       "      <td>World's Longest Snake Has Virgin Birth1st Reco...</td>\n",
       "      <td>Lebanese MP Nicolas Fattoush repeatedly punche...</td>\n",
       "      <td>\"Since church ministers declared Ebola was a p...</td>\n",
       "      <td>Sixty more women and girls reported kidnapped ...</td>\n",
       "      <td>Canada to toughen terror laws</td>\n",
       "      <td>...</td>\n",
       "      <td>16649.720703</td>\n",
       "      <td>16805.410156</td>\n",
       "      <td>90400000</td>\n",
       "      <td>16805.410156</td>\n",
       "      <td>0.769748</td>\n",
       "      <td>128.371094</td>\n",
       "      <td>0.007616</td>\n",
       "      <td>0.104772</td>\n",
       "      <td>161.990235</td>\n",
       "      <td>1</td>\n",
       "    </tr>\n",
       "    <tr>\n",
       "      <th>1848</th>\n",
       "      <td>2015-12-10</td>\n",
       "      <td>1</td>\n",
       "      <td>\"The US State Department has approved a $1.29 ...</td>\n",
       "      <td>Trump cancels trip to Israel after Netanyahu r...</td>\n",
       "      <td>Mina stampede deaths three times higher than a...</td>\n",
       "      <td>A Canadian ISP has received a public backlash ...</td>\n",
       "      <td>Nicola Sturgeon removes Donald Trump as busine...</td>\n",
       "      <td>Kim Jong-uns uncle admits he defected to U.S. ...</td>\n",
       "      <td>Two detained in Finland over ISIS executions -...</td>\n",
       "      <td>Fukishima Radiation Off West Coast of North Am...</td>\n",
       "      <td>...</td>\n",
       "      <td>17474.660156</td>\n",
       "      <td>17574.750000</td>\n",
       "      <td>107310000</td>\n",
       "      <td>17574.750000</td>\n",
       "      <td>0.466354</td>\n",
       "      <td>81.580078</td>\n",
       "      <td>0.004702</td>\n",
       "      <td>0.153514</td>\n",
       "      <td>223.080078</td>\n",
       "      <td>1</td>\n",
       "    </tr>\n",
       "  </tbody>\n",
       "</table>\n",
       "<p>5 rows × 39 columns</p>\n",
       "</div>"
      ],
      "text/plain": [
       "           Date  Label                                               Top1  \\\n",
       "1257 2013-08-07      0  Stephen Fry writes an open letter to Cameron a...   \n",
       "970  2012-06-14      1  Pure ecstacy (MDMA) can be safe for adults; sh...   \n",
       "324  2009-11-19      0  b'FIFA and Germany helped finance a soccer sta...   \n",
       "1564 2014-10-24      1     U.S. threatens sanctions on buyers of ISIS oil   \n",
       "1848 2015-12-10      1  \"The US State Department has approved a $1.29 ...   \n",
       "\n",
       "                                                   Top2  \\\n",
       "1257  \"Some girls have been married 60 times by the ...   \n",
       "970   Canadian researchers thwart Ebola virus - The ...   \n",
       "324   b'Depressed woman loses benefits over Facebook...   \n",
       "1564                   Canada attack 'not linked to IS'   \n",
       "1848  Trump cancels trip to Israel after Netanyahu r...   \n",
       "\n",
       "                                                   Top3  \\\n",
       "1257  41yo man walks free after admitting having sex...   \n",
       "970   Germany bans ultraconservative Islamic organiz...   \n",
       "324   b'Illegal Israeli settlements are diverting wa...   \n",
       "1564  Poll: 74 percent of Denmark's citizens want to...   \n",
       "1848  Mina stampede deaths three times higher than a...   \n",
       "\n",
       "                                                   Top4  \\\n",
       "1257  Wikipedia Boosts Security after XKeyscore Reve...   \n",
       "970   Over 50 Zetas Drug Cartel Members, Including 2...   \n",
       "324   b'New poll: 53% of Israelis think ethnic clean...   \n",
       "1564  World's Longest Snake Has Virgin Birth1st Reco...   \n",
       "1848  A Canadian ISP has received a public backlash ...   \n",
       "\n",
       "                                                   Top5  \\\n",
       "1257   McDonald's burgers \"unfit for human consumption\"   \n",
       "970   Italian prosecutors suspect Vatican bank is la...   \n",
       "324   b'British TV documentary on Israel lobby is ac...   \n",
       "1564  Lebanese MP Nicolas Fattoush repeatedly punche...   \n",
       "1848  Nicola Sturgeon removes Donald Trump as busine...   \n",
       "\n",
       "                                                   Top6  \\\n",
       "1257  The Taliban ambushed a convoy of a female Afgh...   \n",
       "970   Child shelter home scandal rocks India: '5-yr-...   \n",
       "324   b'Regarding Afghanistan: \"In 1981, we gave the...   \n",
       "1564  \"Since church ministers declared Ebola was a p...   \n",
       "1848  Kim Jong-uns uncle admits he defected to U.S. ...   \n",
       "\n",
       "                                                   Top7  \\\n",
       "1257  The Magical World Where McDonald's Pays $15 an...   \n",
       "970   Cleric declares jihad against polio campaign i...   \n",
       "324   b\"How the British lied to put a killer in powe...   \n",
       "1564  Sixty more women and girls reported kidnapped ...   \n",
       "1848  Two detained in Finland over ISIS executions -...   \n",
       "\n",
       "                                                   Top8  ...           Low  \\\n",
       "1257  Python That Killed Boys Was House Pet: \"The py...  ...  15421.750000   \n",
       "970                Gaza water too contaminated to drink  ...  12497.660156   \n",
       "324   b'50 oil tankers loitering off British coast a...  ...  10256.110352   \n",
       "1564                      Canada to toughen terror laws  ...  16649.720703   \n",
       "1848  Fukishima Radiation Off West Coast of North Am...  ...  17474.660156   \n",
       "\n",
       "             Close     Volume      AdjClose       pct       Delta   Log_Ret  \\\n",
       "1257  15470.669922   88430000  15470.669922 -0.293500  -45.540039 -0.003102   \n",
       "970   12651.910156  128640000  12651.910156  1.232372  154.020508  0.012369   \n",
       "324   10332.440430  196250000  10332.440430 -0.891000  -92.889648 -0.009044   \n",
       "1564  16805.410156   90400000  16805.410156  0.769748  128.371094  0.007616   \n",
       "1848  17574.750000  107310000  17574.750000  0.466354   81.580078  0.004702   \n",
       "\n",
       "     Volatility   Delta_Vol Vol_Label  \n",
       "1257   0.105929   94.459961         0  \n",
       "970    0.210473  201.019532         1  \n",
       "324    0.288466  169.219726         1  \n",
       "1564   0.104772  161.990235         1  \n",
       "1848   0.153514  223.080078         1  \n",
       "\n",
       "[5 rows x 39 columns]"
      ]
     },
     "execution_count": 29,
     "metadata": {},
     "output_type": "execute_result"
    }
   ],
   "source": [
    "df.sample(5)"
   ]
  },
  {
   "cell_type": "markdown",
   "metadata": {},
   "source": [
    "# Stochastic %K"
   ]
  },
  {
   "cell_type": "code",
   "execution_count": 30,
   "metadata": {},
   "outputs": [],
   "source": [
    "def StoK(close, low, high, n):  \n",
    "    StoK = ((close - low.rolling(n).min() / high.rolling(n).max() - low.rolling(n).min())) * 100\n",
    "    return StoK"
   ]
  },
  {
   "cell_type": "code",
   "execution_count": 31,
   "metadata": {},
   "outputs": [],
   "source": [
    "df['Stoch_%K'] = StoK(df['Close'], df['Low'], df['High'], 14)"
   ]
  },
  {
   "cell_type": "markdown",
   "metadata": {},
   "source": [
    "### Stochastic %D"
   ]
  },
  {
   "cell_type": "code",
   "execution_count": 32,
   "metadata": {},
   "outputs": [],
   "source": [
    "def StoD(close, low, high, n):\n",
    "    StoK = ((close - low.rolling(n).min() / high.rolling(n).max() - low.rolling(n).min())) * 100\n",
    "    StoD = StoK.rolling(window = 3).mean()\n",
    "    return StoD"
   ]
  },
  {
   "cell_type": "code",
   "execution_count": 33,
   "metadata": {},
   "outputs": [],
   "source": [
    "df['Stoch_%D'] = StoD(df['Close'], df['Low'], df['High'], 10)"
   ]
  },
  {
   "cell_type": "markdown",
   "metadata": {},
   "source": [
    "### Momentum"
   ]
  },
  {
   "cell_type": "markdown",
   "metadata": {},
   "source": [
    "Momentum is the speed or velocity of price changes in a stock, security, or tradable instrument. Momentum shows the rate of change in price movement over a period of time to help investors determine the strength of a trend. Stocks that tend to move with the strength of momentum are called momentum stocks.\n",
    "\n",
    "[Source](https://www.investopedia.com/articles/technical/081501.asp)"
   ]
  },
  {
   "cell_type": "code",
   "execution_count": 34,
   "metadata": {},
   "outputs": [],
   "source": [
    "df['Momentum'] = df['Close'].diff(periods=3)"
   ]
  },
  {
   "cell_type": "markdown",
   "metadata": {},
   "source": [
    "### Rate of Change"
   ]
  },
  {
   "cell_type": "code",
   "execution_count": 35,
   "metadata": {},
   "outputs": [],
   "source": [
    "df['Rate_of_Change'] = df['Close'].pct_change()"
   ]
  },
  {
   "cell_type": "markdown",
   "metadata": {},
   "source": [
    "### William's %R"
   ]
  },
  {
   "cell_type": "code",
   "execution_count": 36,
   "metadata": {},
   "outputs": [],
   "source": [
    "df['Williams_R'] = df.ta.willr(df['High'], df['Low'], df['Close'], lbp=14, fillna=False)"
   ]
  },
  {
   "cell_type": "markdown",
   "metadata": {},
   "source": [
    "# >>> tranform to float 64"
   ]
  },
  {
   "cell_type": "code",
   "execution_count": 37,
   "metadata": {},
   "outputs": [],
   "source": [
    "df['Williams_R'] = pd.to_numeric(df['Williams_R'])"
   ]
  },
  {
   "cell_type": "markdown",
   "metadata": {},
   "source": [
    "### A/D Oscillator"
   ]
  },
  {
   "cell_type": "code",
   "execution_count": 38,
   "metadata": {},
   "outputs": [],
   "source": [
    "df['A/D_Oscillator'] = df.ta.adosc(df['High'], df['Low'], df['Close'], df['Volume'], df['Open'])"
   ]
  },
  {
   "cell_type": "markdown",
   "metadata": {},
   "source": [
    "### Disparity 5"
   ]
  },
  {
   "cell_type": "code",
   "execution_count": 39,
   "metadata": {},
   "outputs": [],
   "source": [
    "df['MA5'] = df.Close.rolling(window=5).mean()\n",
    "df['Disparity_5'] = df['Close']/df['MA5']*100"
   ]
  },
  {
   "cell_type": "markdown",
   "metadata": {},
   "source": [
    "### Moving Averages"
   ]
  },
  {
   "cell_type": "code",
   "execution_count": 40,
   "metadata": {},
   "outputs": [],
   "source": [
    "df['MA20'] = df.AdjClose.rolling(window=20).mean()\n",
    "df['MA60'] = df.AdjClose.rolling(window=60).mean()\n",
    "df['MA150'] = df.AdjClose.rolling(window=150).mean()"
   ]
  },
  {
   "cell_type": "markdown",
   "metadata": {},
   "source": [
    "### RSI"
   ]
  },
  {
   "cell_type": "code",
   "execution_count": 41,
   "metadata": {},
   "outputs": [],
   "source": [
    "df['rsi'] = ta.rsi(df.AdjClose, 14)"
   ]
  },
  {
   "cell_type": "markdown",
   "metadata": {},
   "source": [
    "### MACD"
   ]
  },
  {
   "cell_type": "code",
   "execution_count": 42,
   "metadata": {},
   "outputs": [],
   "source": [
    "df['26 ema'] = df.ta.ema(df['Close'], length = 26)\n",
    "df['12 ema'] = df.ta.ema(df['Close'], length = 12)\n",
    "df['MACD'] = (df['12 ema'] - df['26 ema'])"
   ]
  },
  {
   "cell_type": "markdown",
   "metadata": {},
   "source": [
    "## Data Cleaning and Preparation"
   ]
  },
  {
   "cell_type": "code",
   "execution_count": 43,
   "metadata": {},
   "outputs": [],
   "source": [
    "df1 = df1.sort_values(by=['Date'])"
   ]
  },
  {
   "cell_type": "code",
   "execution_count": 44,
   "metadata": {},
   "outputs": [],
   "source": [
    "df = pd.merge(df, df1)"
   ]
  },
  {
   "cell_type": "code",
   "execution_count": 45,
   "metadata": {},
   "outputs": [],
   "source": [
    "df['AllNews'] = df.iloc[:,2:27].astype(str).apply(' '.join, axis=1)"
   ]
  },
  {
   "cell_type": "code",
   "execution_count": 46,
   "metadata": {},
   "outputs": [],
   "source": [
    "df.insert(2,'AllNews', df.pop(\"AllNews\"))"
   ]
  },
  {
   "cell_type": "code",
   "execution_count": 47,
   "metadata": {},
   "outputs": [
    {
     "data": {
      "text/html": [
       "<div>\n",
       "<style scoped>\n",
       "    .dataframe tbody tr th:only-of-type {\n",
       "        vertical-align: middle;\n",
       "    }\n",
       "\n",
       "    .dataframe tbody tr th {\n",
       "        vertical-align: top;\n",
       "    }\n",
       "\n",
       "    .dataframe thead th {\n",
       "        text-align: right;\n",
       "    }\n",
       "</style>\n",
       "<table border=\"1\" class=\"dataframe\">\n",
       "  <thead>\n",
       "    <tr style=\"text-align: right;\">\n",
       "      <th></th>\n",
       "      <th>Date</th>\n",
       "      <th>Label</th>\n",
       "      <th>AllNews</th>\n",
       "      <th>Top1</th>\n",
       "      <th>Top2</th>\n",
       "      <th>Top3</th>\n",
       "      <th>Top4</th>\n",
       "      <th>Top5</th>\n",
       "      <th>Top6</th>\n",
       "      <th>Top7</th>\n",
       "      <th>...</th>\n",
       "      <th>A/D_Oscillator</th>\n",
       "      <th>MA5</th>\n",
       "      <th>Disparity_5</th>\n",
       "      <th>MA20</th>\n",
       "      <th>MA60</th>\n",
       "      <th>MA150</th>\n",
       "      <th>rsi</th>\n",
       "      <th>26 ema</th>\n",
       "      <th>12 ema</th>\n",
       "      <th>MACD</th>\n",
       "    </tr>\n",
       "  </thead>\n",
       "  <tbody>\n",
       "    <tr>\n",
       "      <th>0</th>\n",
       "      <td>2008-08-08</td>\n",
       "      <td>0</td>\n",
       "      <td>b\"Georgia 'downs two Russian warplanes' as cou...</td>\n",
       "      <td>b\"Georgia 'downs two Russian warplanes' as cou...</td>\n",
       "      <td>b'BREAKING: Musharraf to be impeached.'</td>\n",
       "      <td>b'Russia Today: Columns of troops roll into So...</td>\n",
       "      <td>b'Russian tanks are moving towards the capital...</td>\n",
       "      <td>b\"Afghan children raped with 'impunity,' U.N. ...</td>\n",
       "      <td>b'150 Russian tanks have entered South Ossetia...</td>\n",
       "      <td>b\"Breaking: Georgia invades South Ossetia, Rus...</td>\n",
       "      <td>...</td>\n",
       "      <td>NaN</td>\n",
       "      <td>NaN</td>\n",
       "      <td>NaN</td>\n",
       "      <td>NaN</td>\n",
       "      <td>NaN</td>\n",
       "      <td>NaN</td>\n",
       "      <td>NaN</td>\n",
       "      <td>NaN</td>\n",
       "      <td>NaN</td>\n",
       "      <td>NaN</td>\n",
       "    </tr>\n",
       "  </tbody>\n",
       "</table>\n",
       "<p>1 rows × 55 columns</p>\n",
       "</div>"
      ],
      "text/plain": [
       "        Date  Label                                            AllNews  \\\n",
       "0 2008-08-08      0  b\"Georgia 'downs two Russian warplanes' as cou...   \n",
       "\n",
       "                                                Top1  \\\n",
       "0  b\"Georgia 'downs two Russian warplanes' as cou...   \n",
       "\n",
       "                                      Top2  \\\n",
       "0  b'BREAKING: Musharraf to be impeached.'   \n",
       "\n",
       "                                                Top3  \\\n",
       "0  b'Russia Today: Columns of troops roll into So...   \n",
       "\n",
       "                                                Top4  \\\n",
       "0  b'Russian tanks are moving towards the capital...   \n",
       "\n",
       "                                                Top5  \\\n",
       "0  b\"Afghan children raped with 'impunity,' U.N. ...   \n",
       "\n",
       "                                                Top6  \\\n",
       "0  b'150 Russian tanks have entered South Ossetia...   \n",
       "\n",
       "                                                Top7  ... A/D_Oscillator MA5  \\\n",
       "0  b\"Breaking: Georgia invades South Ossetia, Rus...  ...            NaN NaN   \n",
       "\n",
       "  Disparity_5 MA20 MA60 MA150 rsi 26 ema 12 ema MACD  \n",
       "0         NaN  NaN  NaN   NaN NaN    NaN    NaN  NaN  \n",
       "\n",
       "[1 rows x 55 columns]"
      ]
     },
     "execution_count": 47,
     "metadata": {},
     "output_type": "execute_result"
    }
   ],
   "source": [
    "df.head(1)"
   ]
  },
  {
   "cell_type": "code",
   "execution_count": 48,
   "metadata": {},
   "outputs": [
    {
     "data": {
      "text/plain": [
       "Index(['Date', 'Label', 'AllNews', 'Top1', 'Top2', 'Top3', 'Top4', 'Top5',\n",
       "       'Top6', 'Top7', 'Top8', 'Top9', 'Top10', 'Top11', 'Top12', 'Top13',\n",
       "       'Top14', 'Top15', 'Top16', 'Top17', 'Top18', 'Top19', 'Top20', 'Top21',\n",
       "       'Top22', 'Top23', 'Top24', 'Top25', 'Open', 'High', 'Low', 'Close',\n",
       "       'Volume', 'AdjClose', 'pct', 'Delta', 'Log_Ret', 'Volatility',\n",
       "       'Delta_Vol', 'Vol_Label', 'Stoch_%K', 'Stoch_%D', 'Momentum',\n",
       "       'Rate_of_Change', 'Williams_R', 'A/D_Oscillator', 'MA5', 'Disparity_5',\n",
       "       'MA20', 'MA60', 'MA150', 'rsi', '26 ema', '12 ema', 'MACD'],\n",
       "      dtype='object')"
      ]
     },
     "execution_count": 48,
     "metadata": {},
     "output_type": "execute_result"
    }
   ],
   "source": [
    "df.columns"
   ]
  },
  {
   "cell_type": "code",
   "execution_count": 49,
   "metadata": {},
   "outputs": [],
   "source": [
    "# !Change the last number (to 39?) for dropping all the unnecessary columns\n",
    "df.drop(df.iloc[:,3:39], axis=1, inplace=True)"
   ]
  },
  {
   "cell_type": "code",
   "execution_count": 50,
   "metadata": {},
   "outputs": [
    {
     "data": {
      "text/plain": [
       "Index(['Date', 'Label', 'AllNews', 'Vol_Label', 'Stoch_%K', 'Stoch_%D',\n",
       "       'Momentum', 'Rate_of_Change', 'Williams_R', 'A/D_Oscillator', 'MA5',\n",
       "       'Disparity_5', 'MA20', 'MA60', 'MA150', 'rsi', '26 ema', '12 ema',\n",
       "       'MACD'],\n",
       "      dtype='object')"
      ]
     },
     "execution_count": 50,
     "metadata": {},
     "output_type": "execute_result"
    }
   ],
   "source": [
    "df.columns"
   ]
  },
  {
   "cell_type": "code",
   "execution_count": 51,
   "metadata": {},
   "outputs": [],
   "source": [
    "df = df[['Date', 'Label', 'Vol_Label', 'AllNews', 'Stoch_%K',\n",
    "       'Stoch_%D', 'Momentum', 'Rate_of_Change', 'Williams_R',\n",
    "       'A/D_Oscillator', 'MA5', 'Disparity_5', 'MA20', 'MA60', 'MA150', 'rsi',\n",
    "       '26 ema', '12 ema', 'MACD']]"
   ]
  },
  {
   "cell_type": "code",
   "execution_count": 52,
   "metadata": {},
   "outputs": [
    {
     "data": {
      "text/html": [
       "<div>\n",
       "<style scoped>\n",
       "    .dataframe tbody tr th:only-of-type {\n",
       "        vertical-align: middle;\n",
       "    }\n",
       "\n",
       "    .dataframe tbody tr th {\n",
       "        vertical-align: top;\n",
       "    }\n",
       "\n",
       "    .dataframe thead th {\n",
       "        text-align: right;\n",
       "    }\n",
       "</style>\n",
       "<table border=\"1\" class=\"dataframe\">\n",
       "  <thead>\n",
       "    <tr style=\"text-align: right;\">\n",
       "      <th></th>\n",
       "      <th>Date</th>\n",
       "      <th>Label</th>\n",
       "      <th>Vol_Label</th>\n",
       "      <th>AllNews</th>\n",
       "      <th>Stoch_%K</th>\n",
       "      <th>Stoch_%D</th>\n",
       "      <th>Momentum</th>\n",
       "      <th>Rate_of_Change</th>\n",
       "      <th>Williams_R</th>\n",
       "      <th>A/D_Oscillator</th>\n",
       "      <th>MA5</th>\n",
       "      <th>Disparity_5</th>\n",
       "      <th>MA20</th>\n",
       "      <th>MA60</th>\n",
       "      <th>MA150</th>\n",
       "      <th>rsi</th>\n",
       "      <th>26 ema</th>\n",
       "      <th>12 ema</th>\n",
       "      <th>MACD</th>\n",
       "    </tr>\n",
       "  </thead>\n",
       "  <tbody>\n",
       "    <tr>\n",
       "      <th>0</th>\n",
       "      <td>2008-08-08</td>\n",
       "      <td>0</td>\n",
       "      <td>1</td>\n",
       "      <td>b\"Georgia 'downs two Russian warplanes' as cou...</td>\n",
       "      <td>NaN</td>\n",
       "      <td>NaN</td>\n",
       "      <td>NaN</td>\n",
       "      <td>NaN</td>\n",
       "      <td>0.0</td>\n",
       "      <td>NaN</td>\n",
       "      <td>NaN</td>\n",
       "      <td>NaN</td>\n",
       "      <td>NaN</td>\n",
       "      <td>NaN</td>\n",
       "      <td>NaN</td>\n",
       "      <td>NaN</td>\n",
       "      <td>NaN</td>\n",
       "      <td>NaN</td>\n",
       "      <td>NaN</td>\n",
       "    </tr>\n",
       "    <tr>\n",
       "      <th>1</th>\n",
       "      <td>2008-08-11</td>\n",
       "      <td>1</td>\n",
       "      <td>1</td>\n",
       "      <td>b'Why wont America and Nato help us? If they w...</td>\n",
       "      <td>NaN</td>\n",
       "      <td>NaN</td>\n",
       "      <td>NaN</td>\n",
       "      <td>0.004093</td>\n",
       "      <td>0.0</td>\n",
       "      <td>NaN</td>\n",
       "      <td>NaN</td>\n",
       "      <td>NaN</td>\n",
       "      <td>NaN</td>\n",
       "      <td>NaN</td>\n",
       "      <td>NaN</td>\n",
       "      <td>100.000000</td>\n",
       "      <td>NaN</td>\n",
       "      <td>NaN</td>\n",
       "      <td>NaN</td>\n",
       "    </tr>\n",
       "    <tr>\n",
       "      <th>2</th>\n",
       "      <td>2008-08-12</td>\n",
       "      <td>0</td>\n",
       "      <td>1</td>\n",
       "      <td>b'Remember that adorable 9-year-old who sang a...</td>\n",
       "      <td>NaN</td>\n",
       "      <td>NaN</td>\n",
       "      <td>NaN</td>\n",
       "      <td>-0.011872</td>\n",
       "      <td>0.0</td>\n",
       "      <td>NaN</td>\n",
       "      <td>NaN</td>\n",
       "      <td>NaN</td>\n",
       "      <td>NaN</td>\n",
       "      <td>NaN</td>\n",
       "      <td>NaN</td>\n",
       "      <td>82.779565</td>\n",
       "      <td>NaN</td>\n",
       "      <td>NaN</td>\n",
       "      <td>NaN</td>\n",
       "    </tr>\n",
       "  </tbody>\n",
       "</table>\n",
       "</div>"
      ],
      "text/plain": [
       "        Date  Label  Vol_Label  \\\n",
       "0 2008-08-08      0          1   \n",
       "1 2008-08-11      1          1   \n",
       "2 2008-08-12      0          1   \n",
       "\n",
       "                                             AllNews  Stoch_%K  Stoch_%D  \\\n",
       "0  b\"Georgia 'downs two Russian warplanes' as cou...       NaN       NaN   \n",
       "1  b'Why wont America and Nato help us? If they w...       NaN       NaN   \n",
       "2  b'Remember that adorable 9-year-old who sang a...       NaN       NaN   \n",
       "\n",
       "   Momentum  Rate_of_Change  Williams_R  A/D_Oscillator  MA5  Disparity_5  \\\n",
       "0       NaN             NaN         0.0             NaN  NaN          NaN   \n",
       "1       NaN        0.004093         0.0             NaN  NaN          NaN   \n",
       "2       NaN       -0.011872         0.0             NaN  NaN          NaN   \n",
       "\n",
       "   MA20  MA60  MA150         rsi  26 ema  12 ema  MACD  \n",
       "0   NaN   NaN    NaN         NaN     NaN     NaN   NaN  \n",
       "1   NaN   NaN    NaN  100.000000     NaN     NaN   NaN  \n",
       "2   NaN   NaN    NaN   82.779565     NaN     NaN   NaN  "
      ]
     },
     "execution_count": 52,
     "metadata": {},
     "output_type": "execute_result"
    }
   ],
   "source": [
    "df.head(3)"
   ]
  },
  {
   "cell_type": "code",
   "execution_count": 53,
   "metadata": {},
   "outputs": [],
   "source": [
    "df.dropna(inplace= True)"
   ]
  },
  {
   "cell_type": "code",
   "execution_count": 54,
   "metadata": {},
   "outputs": [
    {
     "data": {
      "text/plain": [
       "0"
      ]
     },
     "execution_count": 54,
     "metadata": {},
     "output_type": "execute_result"
    }
   ],
   "source": [
    "df.isnull().sum().sum()"
   ]
  },
  {
   "cell_type": "markdown",
   "metadata": {},
   "source": [
    "# Sentiment analysis"
   ]
  },
  {
   "cell_type": "code",
   "execution_count": 55,
   "metadata": {},
   "outputs": [],
   "source": [
    "SentAn = SentimentIntensityAnalyzer()"
   ]
  },
  {
   "cell_type": "code",
   "execution_count": 56,
   "metadata": {},
   "outputs": [],
   "source": [
    "def detect_subjectivity(text):\n",
    "    return TextBlob(text).sentiment.subjectivity"
   ]
  },
  {
   "cell_type": "code",
   "execution_count": 57,
   "metadata": {},
   "outputs": [
    {
     "name": "stdout",
     "output_type": "stream",
     "text": [
      "Sentiment Analysis initialized...\n",
      "Vaderization process completed after 0.48 Minutes\n"
     ]
    }
   ],
   "source": [
    "import time\n",
    "start = time.time()\n",
    "\n",
    "start_vect=time.time()\n",
    "print(\"Sentiment Analysis initialized...\")\n",
    "\n",
    "#df['AllNews'] = df['AllNews'].astype(str) # Make sure data is treated as a string\n",
    "df['AllNews'+'_pos']= df['AllNews'].apply(lambda x:SentAn.polarity_scores(x)['pos'])\n",
    "df['AllNews'+'_neg']= df['AllNews'].apply(lambda x:SentAn.polarity_scores(x)['neg'])\n",
    "df['AllNews'+'_comp']= df['AllNews'].apply(lambda x:SentAn.polarity_scores(x)['compound'])\n",
    "df['AllNews'+'_sub'] = df['AllNews'].apply(detect_subjectivity)\n",
    "    \n",
    "print(\"Vaderization process completed after %0.2f Minutes\"%((time.time() - start_vect)/60))"
   ]
  },
  {
   "cell_type": "code",
   "execution_count": 58,
   "metadata": {},
   "outputs": [
    {
     "data": {
      "text/html": [
       "<div>\n",
       "<style scoped>\n",
       "    .dataframe tbody tr th:only-of-type {\n",
       "        vertical-align: middle;\n",
       "    }\n",
       "\n",
       "    .dataframe tbody tr th {\n",
       "        vertical-align: top;\n",
       "    }\n",
       "\n",
       "    .dataframe thead th {\n",
       "        text-align: right;\n",
       "    }\n",
       "</style>\n",
       "<table border=\"1\" class=\"dataframe\">\n",
       "  <thead>\n",
       "    <tr style=\"text-align: right;\">\n",
       "      <th></th>\n",
       "      <th>Date</th>\n",
       "      <th>Label</th>\n",
       "      <th>Vol_Label</th>\n",
       "      <th>AllNews</th>\n",
       "      <th>Stoch_%K</th>\n",
       "      <th>Stoch_%D</th>\n",
       "      <th>Momentum</th>\n",
       "      <th>Rate_of_Change</th>\n",
       "      <th>Williams_R</th>\n",
       "      <th>A/D_Oscillator</th>\n",
       "      <th>...</th>\n",
       "      <th>MA60</th>\n",
       "      <th>MA150</th>\n",
       "      <th>rsi</th>\n",
       "      <th>26 ema</th>\n",
       "      <th>12 ema</th>\n",
       "      <th>MACD</th>\n",
       "      <th>AllNews_pos</th>\n",
       "      <th>AllNews_neg</th>\n",
       "      <th>AllNews_comp</th>\n",
       "      <th>AllNews_sub</th>\n",
       "    </tr>\n",
       "  </thead>\n",
       "  <tbody>\n",
       "    <tr>\n",
       "      <th>149</th>\n",
       "      <td>2009-03-13</td>\n",
       "      <td>1</td>\n",
       "      <td>1</td>\n",
       "      <td>b\"What will Americans do when it's not an Arab...</td>\n",
       "      <td>75315.605068</td>\n",
       "      <td>63730.760795</td>\n",
       "      <td>297.489746</td>\n",
       "      <td>0.007520</td>\n",
       "      <td>-19.354219</td>\n",
       "      <td>2.086435e+08</td>\n",
       "      <td>...</td>\n",
       "      <td>7953.539779</td>\n",
       "      <td>9096.661172</td>\n",
       "      <td>47.437094</td>\n",
       "      <td>7271.503339</td>\n",
       "      <td>7015.225102</td>\n",
       "      <td>-256.278238</td>\n",
       "      <td>0.055</td>\n",
       "      <td>0.154</td>\n",
       "      <td>-0.9898</td>\n",
       "      <td>0.350456</td>\n",
       "    </tr>\n",
       "    <tr>\n",
       "      <th>150</th>\n",
       "      <td>2009-03-16</td>\n",
       "      <td>0</td>\n",
       "      <td>1</td>\n",
       "      <td>b'Hello Wikileaks?  Huge UK Bank gags newspape...</td>\n",
       "      <td>74614.628568</td>\n",
       "      <td>73283.067517</td>\n",
       "      <td>286.570313</td>\n",
       "      <td>-0.000970</td>\n",
       "      <td>-20.103934</td>\n",
       "      <td>2.348707e+08</td>\n",
       "      <td>...</td>\n",
       "      <td>7925.086955</td>\n",
       "      <td>9066.545505</td>\n",
       "      <td>47.271738</td>\n",
       "      <td>7267.463848</td>\n",
       "      <td>7046.262811</td>\n",
       "      <td>-221.201037</td>\n",
       "      <td>0.042</td>\n",
       "      <td>0.144</td>\n",
       "      <td>-0.9929</td>\n",
       "      <td>0.396197</td>\n",
       "    </tr>\n",
       "    <tr>\n",
       "      <th>151</th>\n",
       "      <td>2009-03-17</td>\n",
       "      <td>1</td>\n",
       "      <td>1</td>\n",
       "      <td>b'Australian Government adds Wikileaks to bann...</td>\n",
       "      <td>92487.595526</td>\n",
       "      <td>80805.221268</td>\n",
       "      <td>225.640136</td>\n",
       "      <td>0.024765</td>\n",
       "      <td>-0.708939</td>\n",
       "      <td>3.228300e+08</td>\n",
       "      <td>...</td>\n",
       "      <td>7901.276294</td>\n",
       "      <td>9037.301175</td>\n",
       "      <td>51.856322</td>\n",
       "      <td>7276.962837</td>\n",
       "      <td>7100.022409</td>\n",
       "      <td>-176.940428</td>\n",
       "      <td>0.045</td>\n",
       "      <td>0.220</td>\n",
       "      <td>-0.9978</td>\n",
       "      <td>0.283046</td>\n",
       "    </tr>\n",
       "  </tbody>\n",
       "</table>\n",
       "<p>3 rows × 23 columns</p>\n",
       "</div>"
      ],
      "text/plain": [
       "          Date  Label  Vol_Label  \\\n",
       "149 2009-03-13      1          1   \n",
       "150 2009-03-16      0          1   \n",
       "151 2009-03-17      1          1   \n",
       "\n",
       "                                               AllNews      Stoch_%K  \\\n",
       "149  b\"What will Americans do when it's not an Arab...  75315.605068   \n",
       "150  b'Hello Wikileaks?  Huge UK Bank gags newspape...  74614.628568   \n",
       "151  b'Australian Government adds Wikileaks to bann...  92487.595526   \n",
       "\n",
       "         Stoch_%D    Momentum  Rate_of_Change  Williams_R  A/D_Oscillator  \\\n",
       "149  63730.760795  297.489746        0.007520  -19.354219    2.086435e+08   \n",
       "150  73283.067517  286.570313       -0.000970  -20.103934    2.348707e+08   \n",
       "151  80805.221268  225.640136        0.024765   -0.708939    3.228300e+08   \n",
       "\n",
       "     ...         MA60        MA150        rsi       26 ema       12 ema  \\\n",
       "149  ...  7953.539779  9096.661172  47.437094  7271.503339  7015.225102   \n",
       "150  ...  7925.086955  9066.545505  47.271738  7267.463848  7046.262811   \n",
       "151  ...  7901.276294  9037.301175  51.856322  7276.962837  7100.022409   \n",
       "\n",
       "           MACD  AllNews_pos  AllNews_neg  AllNews_comp  AllNews_sub  \n",
       "149 -256.278238        0.055        0.154       -0.9898     0.350456  \n",
       "150 -221.201037        0.042        0.144       -0.9929     0.396197  \n",
       "151 -176.940428        0.045        0.220       -0.9978     0.283046  \n",
       "\n",
       "[3 rows x 23 columns]"
      ]
     },
     "execution_count": 58,
     "metadata": {},
     "output_type": "execute_result"
    }
   ],
   "source": [
    "df.head(3)"
   ]
  },
  {
   "cell_type": "markdown",
   "metadata": {},
   "source": [
    "# Pre-Processing"
   ]
  },
  {
   "cell_type": "code",
   "execution_count": 59,
   "metadata": {},
   "outputs": [],
   "source": [
    "# in order to predict the next day's market movement / volatility, we shift our Label and Vol_Lablel columns for one row:\n",
    "\n",
    "df.Label = df.Label.shift(-1)\n",
    "df.Vol_Label = df.Vol_Label.shift(-1)"
   ]
  },
  {
   "cell_type": "code",
   "execution_count": 60,
   "metadata": {},
   "outputs": [],
   "source": [
    "df.dropna(inplace= True)"
   ]
  },
  {
   "cell_type": "code",
   "execution_count": 61,
   "metadata": {},
   "outputs": [
    {
     "data": {
      "text/html": [
       "<div>\n",
       "<style scoped>\n",
       "    .dataframe tbody tr th:only-of-type {\n",
       "        vertical-align: middle;\n",
       "    }\n",
       "\n",
       "    .dataframe tbody tr th {\n",
       "        vertical-align: top;\n",
       "    }\n",
       "\n",
       "    .dataframe thead th {\n",
       "        text-align: right;\n",
       "    }\n",
       "</style>\n",
       "<table border=\"1\" class=\"dataframe\">\n",
       "  <thead>\n",
       "    <tr style=\"text-align: right;\">\n",
       "      <th></th>\n",
       "      <th>Date</th>\n",
       "      <th>Label</th>\n",
       "      <th>Vol_Label</th>\n",
       "      <th>AllNews</th>\n",
       "      <th>Stoch_%K</th>\n",
       "      <th>Stoch_%D</th>\n",
       "      <th>Momentum</th>\n",
       "      <th>Rate_of_Change</th>\n",
       "      <th>Williams_R</th>\n",
       "      <th>A/D_Oscillator</th>\n",
       "      <th>...</th>\n",
       "      <th>MA60</th>\n",
       "      <th>MA150</th>\n",
       "      <th>rsi</th>\n",
       "      <th>26 ema</th>\n",
       "      <th>12 ema</th>\n",
       "      <th>MACD</th>\n",
       "      <th>AllNews_pos</th>\n",
       "      <th>AllNews_neg</th>\n",
       "      <th>AllNews_comp</th>\n",
       "      <th>AllNews_sub</th>\n",
       "    </tr>\n",
       "  </thead>\n",
       "  <tbody>\n",
       "    <tr>\n",
       "      <th>149</th>\n",
       "      <td>2009-03-13</td>\n",
       "      <td>0.0</td>\n",
       "      <td>1.0</td>\n",
       "      <td>b\"What will Americans do when it's not an Arab...</td>\n",
       "      <td>75315.605068</td>\n",
       "      <td>63730.760795</td>\n",
       "      <td>297.489746</td>\n",
       "      <td>0.00752</td>\n",
       "      <td>-19.354219</td>\n",
       "      <td>2.086435e+08</td>\n",
       "      <td>...</td>\n",
       "      <td>7953.539779</td>\n",
       "      <td>9096.661172</td>\n",
       "      <td>47.437094</td>\n",
       "      <td>7271.503339</td>\n",
       "      <td>7015.225102</td>\n",
       "      <td>-256.278238</td>\n",
       "      <td>0.055</td>\n",
       "      <td>0.154</td>\n",
       "      <td>-0.9898</td>\n",
       "      <td>0.350456</td>\n",
       "    </tr>\n",
       "    <tr>\n",
       "      <th>150</th>\n",
       "      <td>2009-03-16</td>\n",
       "      <td>1.0</td>\n",
       "      <td>1.0</td>\n",
       "      <td>b'Hello Wikileaks?  Huge UK Bank gags newspape...</td>\n",
       "      <td>74614.628568</td>\n",
       "      <td>73283.067517</td>\n",
       "      <td>286.570313</td>\n",
       "      <td>-0.00097</td>\n",
       "      <td>-20.103934</td>\n",
       "      <td>2.348707e+08</td>\n",
       "      <td>...</td>\n",
       "      <td>7925.086955</td>\n",
       "      <td>9066.545505</td>\n",
       "      <td>47.271738</td>\n",
       "      <td>7267.463848</td>\n",
       "      <td>7046.262811</td>\n",
       "      <td>-221.201037</td>\n",
       "      <td>0.042</td>\n",
       "      <td>0.144</td>\n",
       "      <td>-0.9929</td>\n",
       "      <td>0.396197</td>\n",
       "    </tr>\n",
       "  </tbody>\n",
       "</table>\n",
       "<p>2 rows × 23 columns</p>\n",
       "</div>"
      ],
      "text/plain": [
       "          Date  Label  Vol_Label  \\\n",
       "149 2009-03-13    0.0        1.0   \n",
       "150 2009-03-16    1.0        1.0   \n",
       "\n",
       "                                               AllNews      Stoch_%K  \\\n",
       "149  b\"What will Americans do when it's not an Arab...  75315.605068   \n",
       "150  b'Hello Wikileaks?  Huge UK Bank gags newspape...  74614.628568   \n",
       "\n",
       "         Stoch_%D    Momentum  Rate_of_Change  Williams_R  A/D_Oscillator  \\\n",
       "149  63730.760795  297.489746         0.00752  -19.354219    2.086435e+08   \n",
       "150  73283.067517  286.570313        -0.00097  -20.103934    2.348707e+08   \n",
       "\n",
       "     ...         MA60        MA150        rsi       26 ema       12 ema  \\\n",
       "149  ...  7953.539779  9096.661172  47.437094  7271.503339  7015.225102   \n",
       "150  ...  7925.086955  9066.545505  47.271738  7267.463848  7046.262811   \n",
       "\n",
       "           MACD  AllNews_pos  AllNews_neg  AllNews_comp  AllNews_sub  \n",
       "149 -256.278238        0.055        0.154       -0.9898     0.350456  \n",
       "150 -221.201037        0.042        0.144       -0.9929     0.396197  \n",
       "\n",
       "[2 rows x 23 columns]"
      ]
     },
     "execution_count": 61,
     "metadata": {},
     "output_type": "execute_result"
    }
   ],
   "source": [
    "df.head(2)"
   ]
  },
  {
   "cell_type": "code",
   "execution_count": 62,
   "metadata": {},
   "outputs": [],
   "source": [
    "from nltk.tokenize import word_tokenize\n",
    "\n",
    "df['AllNews'] = [word_tokenize(x) for x in df['AllNews']]"
   ]
  },
  {
   "cell_type": "code",
   "execution_count": 63,
   "metadata": {},
   "outputs": [
    {
     "data": {
      "text/html": [
       "<div>\n",
       "<style scoped>\n",
       "    .dataframe tbody tr th:only-of-type {\n",
       "        vertical-align: middle;\n",
       "    }\n",
       "\n",
       "    .dataframe tbody tr th {\n",
       "        vertical-align: top;\n",
       "    }\n",
       "\n",
       "    .dataframe thead th {\n",
       "        text-align: right;\n",
       "    }\n",
       "</style>\n",
       "<table border=\"1\" class=\"dataframe\">\n",
       "  <thead>\n",
       "    <tr style=\"text-align: right;\">\n",
       "      <th></th>\n",
       "      <th>Date</th>\n",
       "      <th>Label</th>\n",
       "      <th>Vol_Label</th>\n",
       "      <th>AllNews</th>\n",
       "      <th>Stoch_%K</th>\n",
       "      <th>Stoch_%D</th>\n",
       "      <th>Momentum</th>\n",
       "      <th>Rate_of_Change</th>\n",
       "      <th>Williams_R</th>\n",
       "      <th>A/D_Oscillator</th>\n",
       "      <th>...</th>\n",
       "      <th>MA60</th>\n",
       "      <th>MA150</th>\n",
       "      <th>rsi</th>\n",
       "      <th>26 ema</th>\n",
       "      <th>12 ema</th>\n",
       "      <th>MACD</th>\n",
       "      <th>AllNews_pos</th>\n",
       "      <th>AllNews_neg</th>\n",
       "      <th>AllNews_comp</th>\n",
       "      <th>AllNews_sub</th>\n",
       "    </tr>\n",
       "  </thead>\n",
       "  <tbody>\n",
       "    <tr>\n",
       "      <th>1983</th>\n",
       "      <td>2016-06-24</td>\n",
       "      <td>0.0</td>\n",
       "      <td>1.0</td>\n",
       "      <td>[David, Cameron, to, Resign, as, PM, After, EU...</td>\n",
       "      <td>4344.677124</td>\n",
       "      <td>29694.279908</td>\n",
       "      <td>-428.980469</td>\n",
       "      <td>-0.033886</td>\n",
       "      <td>-93.267722</td>\n",
       "      <td>-6.854198e+07</td>\n",
       "      <td>...</td>\n",
       "      <td>17778.381087</td>\n",
       "      <td>17290.658027</td>\n",
       "      <td>39.370487</td>\n",
       "      <td>17760.611799</td>\n",
       "      <td>17751.397004</td>\n",
       "      <td>-9.214795</td>\n",
       "      <td>0.051</td>\n",
       "      <td>0.093</td>\n",
       "      <td>-0.8881</td>\n",
       "      <td>0.37551</td>\n",
       "    </tr>\n",
       "  </tbody>\n",
       "</table>\n",
       "<p>1 rows × 23 columns</p>\n",
       "</div>"
      ],
      "text/plain": [
       "           Date  Label  Vol_Label  \\\n",
       "1983 2016-06-24    0.0        1.0   \n",
       "\n",
       "                                                AllNews     Stoch_%K  \\\n",
       "1983  [David, Cameron, to, Resign, as, PM, After, EU...  4344.677124   \n",
       "\n",
       "          Stoch_%D    Momentum  Rate_of_Change  Williams_R  A/D_Oscillator  \\\n",
       "1983  29694.279908 -428.980469       -0.033886  -93.267722   -6.854198e+07   \n",
       "\n",
       "      ...          MA60         MA150        rsi        26 ema        12 ema  \\\n",
       "1983  ...  17778.381087  17290.658027  39.370487  17760.611799  17751.397004   \n",
       "\n",
       "          MACD  AllNews_pos  AllNews_neg  AllNews_comp  AllNews_sub  \n",
       "1983 -9.214795        0.051        0.093       -0.8881      0.37551  \n",
       "\n",
       "[1 rows x 23 columns]"
      ]
     },
     "execution_count": 63,
     "metadata": {},
     "output_type": "execute_result"
    }
   ],
   "source": [
    "df.sample(1)"
   ]
  },
  {
   "cell_type": "code",
   "execution_count": 64,
   "metadata": {},
   "outputs": [],
   "source": [
    "stop = stopwords.words('english')\n",
    "# \n",
    "def hasNumbers(inputString):\n",
    "    return bool(re.search(r'\\d', inputString))\n",
    "# \n",
    "def isSymbol(inputString):\n",
    "    return bool(re.match(r'[^\\w]', inputString))\n",
    "# lemma\n",
    "from nltk.stem import WordNetLemmatizer\n",
    "wordnet_lemmatizer = WordNetLemmatizer()\n",
    "\n",
    "def check(word):\n",
    "    \"\"\"\n",
    "         If you need this word, then True\n",
    "         If it should be removed, False\n",
    "    \"\"\"\n",
    "    word= word.lower()\n",
    "    if word in stop:\n",
    "        return False\n",
    "    elif hasNumbers(word) or isSymbol(word):\n",
    "        return False\n",
    "    else:\n",
    "        return True\n",
    "\n",
    "# Combine the above methods\n",
    "def preprocessing(sen):\n",
    "    res = []\n",
    "    for word in sen:\n",
    "        if check(word):\n",
    "            # The use of this paragraph is just to remove the mark left in the Python byte store str. . The data was not processed before, and this will not happen in other cases.\n",
    "            word = word.lower().replace(\"b'\", '').replace('b\"', '').replace('\"', '').replace(\"'\", '').replace(\"b\", '')\n",
    "            res.append(wordnet_lemmatizer.lemmatize(word))   \n",
    "    return res"
   ]
  },
  {
   "cell_type": "code",
   "execution_count": 65,
   "metadata": {},
   "outputs": [],
   "source": [
    "df['AllNews'] = [preprocessing(x) for x in df['AllNews']]"
   ]
  },
  {
   "cell_type": "markdown",
   "metadata": {},
   "source": [
    "# Text Exploration"
   ]
  },
  {
   "cell_type": "code",
   "execution_count": 66,
   "metadata": {},
   "outputs": [],
   "source": [
    "non_decrease = df[df['Label']==1]\n",
    "decrease = df[df['Label']==0]"
   ]
  },
  {
   "cell_type": "code",
   "execution_count": 67,
   "metadata": {},
   "outputs": [],
   "source": [
    "non_decrease_word=[]\n",
    "decrease_word=[]\n",
    "for each in df['AllNews']:\n",
    "    non_decrease_word.append(each)\n",
    "\n",
    "for each in df['AllNews']:\n",
    "    decrease_word.append(each)"
   ]
  },
  {
   "cell_type": "markdown",
   "metadata": {},
   "source": [
    "# Text as Feature"
   ]
  },
  {
   "cell_type": "code",
   "execution_count": 68,
   "metadata": {},
   "outputs": [],
   "source": [
    "path = get_tmpfile(\"word2vec.model\")"
   ]
  },
  {
   "cell_type": "code",
   "execution_count": 69,
   "metadata": {},
   "outputs": [],
   "source": [
    "model = Word2Vec(df['AllNews'], size=100, window=5, min_count=1, workers=4)\n",
    "model.save(\"word2vec.model\")"
   ]
  },
  {
   "cell_type": "code",
   "execution_count": 70,
   "metadata": {},
   "outputs": [
    {
     "data": {
      "text/plain": [
       "(533392, 540577)"
      ]
     },
     "execution_count": 70,
     "metadata": {},
     "output_type": "execute_result"
    }
   ],
   "source": [
    "model.train(df.AllNews, total_examples=1, epochs=1)"
   ]
  },
  {
   "cell_type": "code",
   "execution_count": 71,
   "metadata": {},
   "outputs": [],
   "source": [
    "def get_SenVector(word_list):\n",
    "    res = np.zeros([100])\n",
    "    for word in word_list:\n",
    "        if word in model:\n",
    "            res += model[word]\n",
    "    return res"
   ]
  },
  {
   "cell_type": "code",
   "execution_count": 72,
   "metadata": {},
   "outputs": [
    {
     "name": "stderr",
     "output_type": "stream",
     "text": [
      "C:\\ProgramData\\Anaconda3\\lib\\site-packages\\ipykernel_launcher.py:4: DeprecationWarning:\n",
      "\n",
      "Call to deprecated `__contains__` (Method will be removed in 4.0.0, use self.wv.__contains__() instead).\n",
      "\n",
      "C:\\ProgramData\\Anaconda3\\lib\\site-packages\\ipykernel_launcher.py:5: DeprecationWarning:\n",
      "\n",
      "Call to deprecated `__getitem__` (Method will be removed in 4.0.0, use self.wv.__getitem__() instead).\n",
      "\n"
     ]
    }
   ],
   "source": [
    "df['AllNews'] = [get_SenVector(x) for x in df['AllNews']]"
   ]
  },
  {
   "cell_type": "code",
   "execution_count": null,
   "metadata": {},
   "outputs": [],
   "source": []
  },
  {
   "cell_type": "markdown",
   "metadata": {},
   "source": [
    "# Model Estimation"
   ]
  },
  {
   "cell_type": "code",
   "execution_count": 73,
   "metadata": {},
   "outputs": [],
   "source": [
    "# import warnings filter\n",
    "from warnings import simplefilter\n",
    "# ignore all future warnings\n",
    "simplefilter(action='ignore', category=FutureWarning)"
   ]
  },
  {
   "cell_type": "code",
   "execution_count": 74,
   "metadata": {},
   "outputs": [
    {
     "name": "stdout",
     "output_type": "stream",
     "text": [
      "<class 'pandas.core.frame.DataFrame'>\n",
      "Int64Index: 1839 entries, 149 to 1987\n",
      "Data columns (total 23 columns):\n",
      "Date              1839 non-null datetime64[ns]\n",
      "Label             1839 non-null float64\n",
      "Vol_Label         1839 non-null float64\n",
      "AllNews           1839 non-null object\n",
      "Stoch_%K          1839 non-null float64\n",
      "Stoch_%D          1839 non-null float64\n",
      "Momentum          1839 non-null float64\n",
      "Rate_of_Change    1839 non-null float64\n",
      "Williams_R        1839 non-null float64\n",
      "A/D_Oscillator    1839 non-null float64\n",
      "MA5               1839 non-null float64\n",
      "Disparity_5       1839 non-null float64\n",
      "MA20              1839 non-null float64\n",
      "MA60              1839 non-null float64\n",
      "MA150             1839 non-null float64\n",
      "rsi               1839 non-null float64\n",
      "26 ema            1839 non-null float64\n",
      "12 ema            1839 non-null float64\n",
      "MACD              1839 non-null float64\n",
      "AllNews_pos       1839 non-null float64\n",
      "AllNews_neg       1839 non-null float64\n",
      "AllNews_comp      1839 non-null float64\n",
      "AllNews_sub       1839 non-null float64\n",
      "dtypes: datetime64[ns](1), float64(21), object(1)\n",
      "memory usage: 344.8+ KB\n"
     ]
    }
   ],
   "source": [
    "df.info()"
   ]
  },
  {
   "cell_type": "markdown",
   "metadata": {},
   "source": [
    "## Technical indicators"
   ]
  },
  {
   "cell_type": "code",
   "execution_count": 75,
   "metadata": {},
   "outputs": [
    {
     "data": {
      "text/plain": [
       "Index(['Date', 'Label', 'Vol_Label', 'AllNews', 'Stoch_%K', 'Stoch_%D',\n",
       "       'Momentum', 'Rate_of_Change', 'Williams_R', 'A/D_Oscillator', 'MA5',\n",
       "       'Disparity_5', 'MA20', 'MA60', 'MA150', 'rsi', '26 ema', '12 ema',\n",
       "       'MACD', 'AllNews_pos', 'AllNews_neg', 'AllNews_comp', 'AllNews_sub'],\n",
       "      dtype='object')"
      ]
     },
     "execution_count": 75,
     "metadata": {},
     "output_type": "execute_result"
    }
   ],
   "source": [
    "df.columns"
   ]
  },
  {
   "cell_type": "code",
   "execution_count": 76,
   "metadata": {},
   "outputs": [],
   "source": [
    "train = df[df['Date'] < '2015-01-01']\n",
    "test = df[df['Date'] > '2014-12-31']"
   ]
  },
  {
   "cell_type": "code",
   "execution_count": 77,
   "metadata": {},
   "outputs": [],
   "source": [
    "from xgboost.sklearn import XGBClassifier\n",
    "from sklearn.metrics import accuracy_score\n",
    "from sklearn.linear_model import LogisticRegression\n",
    "from sklearn.ensemble import RandomForestClassifier\n",
    "from sklearn import ensemble"
   ]
  },
  {
   "cell_type": "markdown",
   "metadata": {},
   "source": [
    "## Logistic Regression"
   ]
  },
  {
   "cell_type": "markdown",
   "metadata": {},
   "source": [
    "### Market movement"
   ]
  },
  {
   "cell_type": "code",
   "execution_count": 78,
   "metadata": {},
   "outputs": [
    {
     "name": "stdout",
     "output_type": "stream",
     "text": [
      "Accuracy: 0.5092838196286472\n"
     ]
    }
   ],
   "source": [
    "Logis = LogisticRegression()\n",
    "Model1 = Logis.fit(train.iloc[:,4:19],train['Label'])\n",
    "Predicted = Model1.predict(test.iloc[:,4:19])\n",
    "print(\"Accuracy:\",accuracy_score(test[\"Label\"],Predicted))"
   ]
  },
  {
   "cell_type": "markdown",
   "metadata": {},
   "source": [
    "### Volatility"
   ]
  },
  {
   "cell_type": "code",
   "execution_count": 79,
   "metadata": {},
   "outputs": [
    {
     "name": "stdout",
     "output_type": "stream",
     "text": [
      "Accuracy: 0.7718832891246684\n"
     ]
    }
   ],
   "source": [
    "Model2 = Logis.fit(train.iloc[:,4:19],train['Vol_Label'])\n",
    "Predicted = Model2.predict(test.iloc[:,4:19])\n",
    "print(\"Accuracy:\",accuracy_score(test[\"Vol_Label\"],Predicted))"
   ]
  },
  {
   "cell_type": "markdown",
   "metadata": {},
   "source": [
    "## Random Forest"
   ]
  },
  {
   "cell_type": "markdown",
   "metadata": {},
   "source": [
    "### Market"
   ]
  },
  {
   "cell_type": "code",
   "execution_count": 81,
   "metadata": {},
   "outputs": [
    {
     "name": "stdout",
     "output_type": "stream",
     "text": [
      "Accuracy: 0.5305039787798409\n"
     ]
    }
   ],
   "source": [
    "rfc = RandomForestClassifier()\n",
    "Model3 = rfc.fit(train.iloc[:,4:19],train['Label'])\n",
    "Predicted = Model3.predict(test.iloc[:,4:19])\n",
    "print(\"Accuracy:\",accuracy_score(test[\"Label\"],Predicted))"
   ]
  },
  {
   "cell_type": "markdown",
   "metadata": {},
   "source": [
    "### Volatility"
   ]
  },
  {
   "cell_type": "code",
   "execution_count": 82,
   "metadata": {},
   "outputs": [
    {
     "name": "stdout",
     "output_type": "stream",
     "text": [
      "Accuracy: 0.7453580901856764\n"
     ]
    }
   ],
   "source": [
    "Model4 = rfc.fit(train.iloc[:,4:19],train['Vol_Label'])\n",
    "Predicted = Model4.predict(test.iloc[:,4:19])\n",
    "print(\"Accuracy:\",accuracy_score(test[\"Vol_Label\"],Predicted))"
   ]
  },
  {
   "cell_type": "markdown",
   "metadata": {},
   "source": [
    "## GradientBoost"
   ]
  },
  {
   "cell_type": "code",
   "execution_count": 83,
   "metadata": {},
   "outputs": [
    {
     "name": "stdout",
     "output_type": "stream",
     "text": [
      "Accuracy: 0.53315649867374\n"
     ]
    }
   ],
   "source": [
    "# Fit the model\n",
    "gbc = ensemble.GradientBoostingClassifier(n_estimators=500, max_depth=2, loss='deviance')\n",
    "gbc.fit(train.iloc[:,4:19],train['Label'])\n",
    "# Make predictions.\n",
    "Predicted = gbc.predict(test.iloc[:,4:19])\n",
    "print(\"Accuracy:\",accuracy_score(test[\"Label\"],Predicted))"
   ]
  },
  {
   "cell_type": "code",
   "execution_count": 84,
   "metadata": {},
   "outputs": [
    {
     "name": "stdout",
     "output_type": "stream",
     "text": [
      "Accuracy: 0.7374005305039788\n"
     ]
    }
   ],
   "source": [
    "# Fit the model\n",
    "gbc = ensemble.GradientBoostingClassifier(n_estimators=500, max_depth=2, loss='deviance')\n",
    "gbc.fit(train.iloc[:,4:19],train['Vol_Label'])\n",
    "# Make predictions.\n",
    "Predicted = gbc.predict(test.iloc[:,4:19])\n",
    "print(\"Accuracy:\",accuracy_score(test[\"Vol_Label\"],Predicted))"
   ]
  },
  {
   "cell_type": "markdown",
   "metadata": {},
   "source": [
    "## XGBoost"
   ]
  },
  {
   "cell_type": "code",
   "execution_count": 85,
   "metadata": {},
   "outputs": [
    {
     "name": "stdout",
     "output_type": "stream",
     "text": [
      "Accuracy: 0.506631299734748\n"
     ]
    }
   ],
   "source": [
    "xgb = XGBClassifier(booster='gblinear', feature_selector='shuffle', objective='reg:squarederror')\n",
    "xgb.fit(train.iloc[:,4:19],train['Label'])\n",
    "Predicted = xgb.predict(test.iloc[:,4:19])\n",
    "print(\"Accuracy:\",accuracy_score(test[\"Label\"],Predicted))"
   ]
  },
  {
   "cell_type": "code",
   "execution_count": 86,
   "metadata": {},
   "outputs": [
    {
     "name": "stdout",
     "output_type": "stream",
     "text": [
      "Accuracy: 0.6896551724137931\n"
     ]
    }
   ],
   "source": [
    "xgb = XGBClassifier(booster='gblinear', feature_selector='shuffle', objective='reg:squarederror')\n",
    "xgb.fit(train.iloc[:,4:19],train['Vol_Label'])\n",
    "Predicted = xgb.predict(test.iloc[:,4:19])\n",
    "print(\"Accuracy:\",accuracy_score(test[\"Vol_Label\"],Predicted))"
   ]
  },
  {
   "cell_type": "code",
   "execution_count": null,
   "metadata": {},
   "outputs": [],
   "source": []
  },
  {
   "cell_type": "code",
   "execution_count": null,
   "metadata": {},
   "outputs": [],
   "source": []
  },
  {
   "cell_type": "code",
   "execution_count": null,
   "metadata": {},
   "outputs": [],
   "source": []
  },
  {
   "cell_type": "code",
   "execution_count": null,
   "metadata": {},
   "outputs": [],
   "source": []
  },
  {
   "cell_type": "code",
   "execution_count": null,
   "metadata": {},
   "outputs": [],
   "source": []
  }
 ],
 "metadata": {
  "kernelspec": {
   "display_name": "Python 3",
   "language": "python",
   "name": "python3"
  },
  "language_info": {
   "codemirror_mode": {
    "name": "ipython",
    "version": 3
   },
   "file_extension": ".py",
   "mimetype": "text/x-python",
   "name": "python",
   "nbconvert_exporter": "python",
   "pygments_lexer": "ipython3",
   "version": "3.7.4"
  }
 },
 "nbformat": 4,
 "nbformat_minor": 2
}
